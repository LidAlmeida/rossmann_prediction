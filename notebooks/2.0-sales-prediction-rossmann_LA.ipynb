{
 "cells": [
  {
   "cell_type": "markdown",
   "id": "50b74d27",
   "metadata": {},
   "source": [
    "***\n",
    "# PREVISÃO DE VENDAS - REDE DE DROGARIAS \n",
    "## PARTE II - IMPLEMENTANDO OS MODELOS DE MACHINE LEARNING\n",
    "***"
   ]
  },
  {
   "cell_type": "markdown",
   "id": "ae999554",
   "metadata": {},
   "source": [
    "## CONTEXTUALIZAÇÃO DO PROJETO:\n",
    "***"
   ]
  },
  {
   "cell_type": "markdown",
   "id": "0801ac86",
   "metadata": {},
   "source": [
    "O CFO da rede de drogarias solicitou uma previsão de vendas com o objetivo de obter informações precisas sobre o desempenho das lojas da rede e determinar o valor do investimento necessário para reformar cada uma das lojas. Utilizaremos um conjunto de dados históricos de vendas diárias que abrangem um período de dois anos e meio para fazer previsões de vendas diárias para as 1.115 lojas da rede localizadas em diferentes partes da Alemanha para os próximos 42 dias. Essas previsões fornecerão informações sobre o valor total das vendas esperadas em cada loja, bem como como essas vendas serão distribuídas diariamente. O objetivo final é fornecer informações confiáveis que permitam que a empresa tome decisões informadas sobre o investimento em reformas nas lojas.\n",
    "\n",
    "**Premissas do negócio:**\n",
    "    \n",
    "    1. Foram consideradas para a previsão apenas as lojas que possuem o valor de vendas superior a 0 na base de dados.\n",
    "\n",
    "    2. Os dias em que as lojas estavam fechadas foram descartadas na realização da previsão.\n",
    "   "
   ]
  },
  {
   "cell_type": "markdown",
   "id": "e82eb3dc",
   "metadata": {},
   "source": [
    "*O contexto, pessoas e perguntas são completamente fictícios.* O dataset utilizado para o projeto está disponível no [Kaggle](https://www.kaggle.com/competitions/rossmann-store-sales/data)."
   ]
  },
  {
   "cell_type": "markdown",
   "id": "7fbae21b",
   "metadata": {},
   "source": [
    "**SUMÁRIO EXECUTIVO**\n",
    "**PARTE II**\n",
    "\n",
    "\n",
    "**1. IMPORTS DE LIBRARIES E DATASET**\n",
    "\n",
    "**2. SPLIT**\n",
    "\n",
    "**3. PREPARAÇÃO DOS DADOS**\n",
    "    \n",
    "**4. IMPLEMENTANDO OS MODELOS DE MACHINE LEARNING**\n",
    "    \n",
    "    4.1 Média - Modelo Baseline\n",
    "    4.2 Linear Regression\n",
    "    4.3 Random Forest Regressor\n",
    "    4.4 XGboost Regressor\n",
    "    4.5 Comparando as performances\n",
    "    \n",
    "**5. CROSS VALIDATION**\n",
    "    \n",
    "    5.1 Média - Modelo Baseline\n",
    "    5.2 Linear Regression\n",
    "    5.3 Random Forest Regressor\n",
    "    5.4 XGboost Regressor\n",
    "    5.5 Comparando as performances\n",
    "\n",
    "**6. XGBOOST REGRESSOR**\n",
    "    \n",
    "    6.1 XGBoost Hyperparameter Tuning: Random Search\n",
    "    6.2 Modelo final\n",
    "    6.3 Traduação e interpretação do erro\n",
    "    6.4 Bussiness performance\n",
    "    6.5 Performance Total\n",
    "    6.6 Machine Learning Performance\n",
    "    \n",
    "**3. CONCLUSÃO DO PROJETO E PERSPECTIVAS**"
   ]
  },
  {
   "cell_type": "markdown",
   "id": "d475fe88",
   "metadata": {},
   "source": [
    "# LOADING LIBRARIES"
   ]
  },
  {
   "cell_type": "code",
   "execution_count": 2,
   "id": "67a1fe11",
   "metadata": {},
   "outputs": [],
   "source": [
    "import pandas as pd\n",
    "import inflection\n",
    "import math\n",
    "import numpy as np\n",
    "import datetime\n",
    "import seaborn as sns\n",
    "import matplotlib.pyplot as plt\n",
    "from matplotlib import rcParams\n",
    "import matplotlib.gridspec as gridspec\n",
    "from scipy.stats import skew\n",
    "import sidetable as stb\n",
    "np.set_printoptions(suppress=True)\n",
    "pd.set_option('display.float_format', '{:.2f}'.format)"
   ]
  },
  {
   "cell_type": "code",
   "execution_count": 3,
   "id": "0042a49d",
   "metadata": {},
   "outputs": [],
   "source": [
    "# Machine learning\n",
    "from sklearn.ensemble import RandomForestRegressor\n",
    "from sklearn.preprocessing import RobustScaler, MinMaxScaler, LabelEncoder, OneHotEncoder, OrdinalEncoder,  FunctionTransformer\n",
    "from sklearn.metrics import mean_absolute_error, mean_squared_error, mean_absolute_percentage_error\n",
    "from sklearn.linear_model import LinearRegression, Lasso\n",
    "from sklearn.pipeline import Pipeline\n",
    "from sklearn.compose import ColumnTransformer\n",
    "from sklearn.model_selection import train_test_split\n",
    "from xgboost import XGBRegressor\n",
    "from sklearn.impute import SimpleImputer\n",
    "from sklearn.model_selection import RandomizedSearchCV\n",
    "from sklearn.model_selection import KFold, cross_val_score\n",
    "from sklearn.model_selection import TimeSeriesSplit"
   ]
  },
  {
   "cell_type": "code",
   "execution_count": 61,
   "id": "0cba2e34",
   "metadata": {},
   "outputs": [],
   "source": [
    "import random\n",
    "import xgboost as xgb\n",
    "import pickle\n",
    "plt.rcParams['figure.figsize'] = [12, 5]"
   ]
  },
  {
   "cell_type": "markdown",
   "id": "b4d524c9",
   "metadata": {},
   "source": [
    "# FUNÇÕES AUXILIARES"
   ]
  },
  {
   "cell_type": "code",
   "execution_count": 5,
   "id": "565ff233",
   "metadata": {},
   "outputs": [],
   "source": [
    "def day_week_month_transform(df):\n",
    "    # Verifica se as colunas necessárias estão presentes no DataFrame\n",
    "    required_cols = ['DayOfWeek', 'Month', 'Day', 'WeekOfYear']\n",
    "    missing_cols = set(required_cols) - set(df.columns)\n",
    "    if missing_cols:\n",
    "        raise ValueError(f\"Missing columns in DataFrame: {missing_cols}\")\n",
    "\n",
    "    # Transforma o dia da semana em coordenadas polares para preservar a ordem circular\n",
    "    df['DayOfWeek_sin'] = df['DayOfWeek'].apply(lambda x: np.sin(x * (2 * np.pi / 7)))\n",
    "    df['DayOfWeek_cos'] = df['DayOfWeek'].apply(lambda x: np.cos(x * (2 * np.pi / 7)))\n",
    "\n",
    "    # Transforma o mês em coordenadas polares para preservar a ordem circular\n",
    "    df['Month_sin'] = df['Month'].apply(lambda x: np.sin(x * (2 * np.pi / 12)))\n",
    "    df['Month_cos'] = df['Month'].apply(lambda x: np.cos(x * (2 * np.pi / 12)))\n",
    "\n",
    "    # Transforma o dia do mês em coordenadas polares para preservar a ordem circular\n",
    "    df['Day_sin'] = df['Day'].apply(lambda x: np.sin(x * (2 * np.pi / 30)))\n",
    "    df['Day_cos'] = df['Day'].apply(lambda x: np.cos(x * (2 * np.pi / 30)))\n",
    "    # Transforma a semana do ano em coordenadas polares para preservar a ordem circular\n",
    "    df['WeekOfYear_sin'] = df['WeekOfYear'].apply(lambda x: np.sin(x * (2 * np.pi / 52)))\n",
    "    df['WeekOfYear_cos'] = df['WeekOfYear'].apply(lambda x: np.cos(x * (2 * np.pi / 52)))\n",
    "\n",
    "    return df"
   ]
  },
  {
   "cell_type": "code",
   "execution_count": 6,
   "id": "e63ddadf",
   "metadata": {},
   "outputs": [],
   "source": [
    "def handle_missing_values(df):\n",
    "    \"\"\"\n",
    "    Realiza imputação de valores ausentes em um DataFrame.\n",
    "\n",
    "    Parâmetros:\n",
    "    -----------\n",
    "    df : pandas.DataFrame\n",
    "        O DataFrame a ser tratado.\n",
    "\n",
    "    Retorna:\n",
    "    --------\n",
    "    pandas.DataFrame\n",
    "        O DataFrame com valores ausentes imputados.\n",
    "    \"\"\"\n",
    "    if not all(col in df.columns for col in [\n",
    "            'CompetitionOpenSinceMonth', 'CompetitionOpenSinceYear',\n",
    "            'CompetitionDistance', 'Promo2SinceWeek', 'Promo2SinceYear', 'PromoInterval'\n",
    "    ]):\n",
    "        raise ValueError(\n",
    "            \"As colunas 'CompetitionOpenSinceMonth', 'CompetitionOpenSinceYear', 'CompetitionDistance', 'Promo2SinceWeek', 'Promo2SinceYear' e 'PromoInterval devem estar presentes no DataFrame.\"\n",
    "        )\n",
    "\n",
    "    # Imputação para a coluna 'CompetitionOpenSinceMonth' com a estratégia de moda\n",
    "    imputer = SimpleImputer(strategy='most_frequent')\n",
    "    df.loc[:, 'CompetitionOpenSinceMonth'] = imputer.fit_transform(\n",
    "        df[['CompetitionOpenSinceMonth']])\n",
    "\n",
    "    # Imputação para a coluna 'CompetitionOpenSinceYear' com a estratégia de moda\n",
    "    imputer = SimpleImputer(strategy='most_frequent')\n",
    "    df.loc[:, 'CompetitionOpenSinceYear'] = imputer.fit_transform(\n",
    "        df[['CompetitionOpenSinceYear']])\n",
    "\n",
    "    # Imputação para a coluna 'CompetitionDistance' com a estratégia de mediana\n",
    "    imputer = SimpleImputer(strategy='median')\n",
    "    df.loc[:, 'CompetitionDistance'] = imputer.fit_transform(\n",
    "        df[['CompetitionDistance']])\n",
    "\n",
    "    # Substituição de valores ausentes por zero\n",
    "    df['Promo2SinceWeek'].fillna(0, inplace=True)\n",
    "    df['Promo2SinceYear'].fillna(0, inplace=True)\n",
    "    df['PromoInterval'].fillna(0, inplace=True)\n",
    "\n",
    "    return df"
   ]
  },
  {
   "cell_type": "code",
   "execution_count": 7,
   "id": "d243ef65",
   "metadata": {},
   "outputs": [],
   "source": [
    "def ml_errors(model_name, y_true, y_pred):\n",
    "    \"\"\"\n",
    "    Calcula as métricas de erro do modelo fornecido.\n",
    "\n",
    "    Parâmetros:\n",
    "    -----------\n",
    "    model_name : str\n",
    "        Nome do modelo.\n",
    "    y_true: list, array\n",
    "        Valores reais do target.\n",
    "    y_pred: list, array\n",
    "        Valores previstos pelo modelo.\n",
    "\n",
    "    Retorna:\n",
    "    --------\n",
    "    df: pd.DataFrame\n",
    "        DataFrame com as métricas de erro calculadas.\n",
    "    \"\"\"\n",
    "    # Calcula métricas de erro\n",
    "    mae = mean_absolute_error(y_true, y_pred)\n",
    "    mape = mean_absolute_percentage_error(y_true, y_pred)\n",
    "    rmse = np.sqrt(mean_squared_error(y_true, y_pred))\n",
    "\n",
    "    # Cria DataFrame com as métricas de erro\n",
    "    df = pd.DataFrame(\n",
    "        {\n",
    "            'Model Name': model_name,\n",
    "            'MAE': mae,\n",
    "            'MAPE': mape,\n",
    "            'RMSE': rmse\n",
    "        },\n",
    "        index=[0])\n",
    "\n",
    "    return df"
   ]
  },
  {
   "cell_type": "code",
   "execution_count": 8,
   "id": "4d557672",
   "metadata": {},
   "outputs": [],
   "source": [
    "def cross_validation(x_training, model_name, model, kfold=5, verbose=False):\n",
    "    \"\"\"\n",
    "    Realiza a validação cruzada do modelo especificado usando os dados de treinamento fornecidos.\n",
    "\n",
    "    Parâmetros:\n",
    "    -----------\n",
    "    x_training : DataFrame\n",
    "        Dados de treinamento.\n",
    "    model_name : str\n",
    "        Nome do modelo.\n",
    "    model : object\n",
    "        Modelo a ser avaliado.\n",
    "    kfold : int, default=5\n",
    "        Número de folds a serem usados na validação cruzada.\n",
    "    verbose : bool, default=False\n",
    "        Define o nível de verbose da função. Se False, não há mensagens de progresso.\n",
    "        Se True, apenas as mensagens de progresso serão exibidas.\n",
    "\n",
    "    Retorna:\n",
    "    --------\n",
    "    DataFrame\n",
    "        Um dataframe com as métricas de desempenho médias e seus desvios padrão.\n",
    "    \"\"\"\n",
    "\n",
    "    results = []\n",
    "    tscv = TimeSeriesSplit(n_splits=kfold)\n",
    "\n",
    "    for train_index, val_index in tscv.split(x_training):\n",
    "        if verbose:\n",
    "            print('\\nKFold Number: {}'.format(kfold))\n",
    "\n",
    "        # training dataset\n",
    "        xtraining = x_training.iloc[train_index].drop(\n",
    "            ['Date', 'Sales'], axis=1)\n",
    "        ytraining = x_training.iloc[train_index]['Sales']\n",
    "\n",
    "        # validation dataset\n",
    "        xvalidation = x_training.iloc[val_index].drop(\n",
    "            ['Date', 'Sales'], axis=1)\n",
    "        yvalidation = x_training.iloc[val_index]['Sales']\n",
    "\n",
    "        # model\n",
    "        # Scaling\n",
    "        rs = RobustScaler()\n",
    "\n",
    "        # StoreType - OneHotEncoder\n",
    "        ohe = OneHotEncoder()\n",
    "\n",
    "        # Assortment - Ordinal Encoder\n",
    "        oe = OrdinalEncoder(categories=[['a', 'b', 'c']], dtype='int')\n",
    "\n",
    "        # Transformations\n",
    "        transformations = ColumnTransformer(\n",
    "            [('robust-scaler', rs,\n",
    "              ['CompetitionDistance', 'CompetitionTimeMonth', 'Promo2Since']),\n",
    "             ('ohe', ohe, ['StoreType']), ('ordinal_assortment', oe, ['Assortment'])],\n",
    "            remainder='passthrough')\n",
    "\n",
    "        pipeline = Pipeline([('preprocessing', transformations),\n",
    "                             ('model', model)])\n",
    "\n",
    "        m = pipeline.fit(xtraining, ytraining)\n",
    "\n",
    "        # prediction\n",
    "        yhat = m.predict(xvalidation)\n",
    "\n",
    "        # performance\n",
    "        m_result = ml_errors(model_name, np.expm1(yvalidation), np.expm1(yhat))\n",
    "        results.append(m_result)\n",
    "        modelling_result = pd.concat(results)\n",
    "\n",
    "        mae = modelling_result['MAE'].mean()\n",
    "        mape = modelling_result['MAPE'].mean()\n",
    "        rmse = modelling_result['RMSE'].mean()\n",
    "\n",
    "        mae_std = modelling_result['MAE'].std()\n",
    "        mape_std = modelling_result['MAPE'].std()\n",
    "        rmse_std = modelling_result['RMSE'].std()\n",
    "\n",
    "    return pd.DataFrame(\n",
    "        {\n",
    "            'Model Name': model_name,\n",
    "            'MAE CV': [mae, mae_std],\n",
    "            'MAPE CV': [mape, mape_std],\n",
    "            'RMSE CV': [rmse, rmse_std]\n",
    "        },\n",
    "        index=['mean', 'std'])"
   ]
  },
  {
   "cell_type": "markdown",
   "id": "8509b5f3",
   "metadata": {},
   "source": [
    "# LOADING DATASET"
   ]
  },
  {
   "cell_type": "code",
   "execution_count": 9,
   "id": "d835f76a",
   "metadata": {},
   "outputs": [],
   "source": [
    "# Dados históricos, incluindo a target vendas filtrados para lojas abertas\n",
    "df = pd.read_csv('../data/processed/data_filtering.csv',index_col=0, parse_dates=['Date'], low_memory=False)"
   ]
  },
  {
   "cell_type": "markdown",
   "id": "0063f7fa",
   "metadata": {},
   "source": [
    "# SPLIT"
   ]
  },
  {
   "cell_type": "code",
   "execution_count": 10,
   "id": "745b1c36",
   "metadata": {
    "scrolled": false
   },
   "outputs": [
    {
     "data": {
      "text/html": [
       "<div>\n",
       "<style scoped>\n",
       "    .dataframe tbody tr th:only-of-type {\n",
       "        vertical-align: middle;\n",
       "    }\n",
       "\n",
       "    .dataframe tbody tr th {\n",
       "        vertical-align: top;\n",
       "    }\n",
       "\n",
       "    .dataframe thead th {\n",
       "        text-align: right;\n",
       "    }\n",
       "</style>\n",
       "<table border=\"1\" class=\"dataframe\">\n",
       "  <thead>\n",
       "    <tr style=\"text-align: right;\">\n",
       "      <th></th>\n",
       "      <th>Store</th>\n",
       "      <th>DayOfWeek</th>\n",
       "      <th>Date</th>\n",
       "      <th>Sales</th>\n",
       "      <th>Customers</th>\n",
       "      <th>Open</th>\n",
       "      <th>Promo</th>\n",
       "      <th>StateHoliday</th>\n",
       "      <th>SchoolHoliday</th>\n",
       "      <th>StoreType</th>\n",
       "      <th>...</th>\n",
       "      <th>Promo2</th>\n",
       "      <th>Promo2SinceWeek</th>\n",
       "      <th>Promo2SinceYear</th>\n",
       "      <th>PromoInterval</th>\n",
       "      <th>Year</th>\n",
       "      <th>Month</th>\n",
       "      <th>Day</th>\n",
       "      <th>WeekOfYear</th>\n",
       "      <th>YearWeek</th>\n",
       "      <th>Season</th>\n",
       "    </tr>\n",
       "  </thead>\n",
       "  <tbody>\n",
       "    <tr>\n",
       "      <th>0</th>\n",
       "      <td>1</td>\n",
       "      <td>5</td>\n",
       "      <td>2015-07-31</td>\n",
       "      <td>5263</td>\n",
       "      <td>555</td>\n",
       "      <td>1</td>\n",
       "      <td>1</td>\n",
       "      <td>0</td>\n",
       "      <td>1</td>\n",
       "      <td>c</td>\n",
       "      <td>...</td>\n",
       "      <td>0</td>\n",
       "      <td>NaN</td>\n",
       "      <td>NaN</td>\n",
       "      <td>NaN</td>\n",
       "      <td>2015</td>\n",
       "      <td>7</td>\n",
       "      <td>31</td>\n",
       "      <td>31</td>\n",
       "      <td>2015-30</td>\n",
       "      <td>Summer</td>\n",
       "    </tr>\n",
       "    <tr>\n",
       "      <th>1</th>\n",
       "      <td>2</td>\n",
       "      <td>5</td>\n",
       "      <td>2015-07-31</td>\n",
       "      <td>6064</td>\n",
       "      <td>625</td>\n",
       "      <td>1</td>\n",
       "      <td>1</td>\n",
       "      <td>0</td>\n",
       "      <td>1</td>\n",
       "      <td>a</td>\n",
       "      <td>...</td>\n",
       "      <td>1</td>\n",
       "      <td>13.00</td>\n",
       "      <td>2010.00</td>\n",
       "      <td>Jan,Apr,Jul,Oct</td>\n",
       "      <td>2015</td>\n",
       "      <td>7</td>\n",
       "      <td>31</td>\n",
       "      <td>31</td>\n",
       "      <td>2015-30</td>\n",
       "      <td>Summer</td>\n",
       "    </tr>\n",
       "    <tr>\n",
       "      <th>2</th>\n",
       "      <td>3</td>\n",
       "      <td>5</td>\n",
       "      <td>2015-07-31</td>\n",
       "      <td>8314</td>\n",
       "      <td>821</td>\n",
       "      <td>1</td>\n",
       "      <td>1</td>\n",
       "      <td>0</td>\n",
       "      <td>1</td>\n",
       "      <td>a</td>\n",
       "      <td>...</td>\n",
       "      <td>1</td>\n",
       "      <td>14.00</td>\n",
       "      <td>2011.00</td>\n",
       "      <td>Jan,Apr,Jul,Oct</td>\n",
       "      <td>2015</td>\n",
       "      <td>7</td>\n",
       "      <td>31</td>\n",
       "      <td>31</td>\n",
       "      <td>2015-30</td>\n",
       "      <td>Summer</td>\n",
       "    </tr>\n",
       "    <tr>\n",
       "      <th>3</th>\n",
       "      <td>4</td>\n",
       "      <td>5</td>\n",
       "      <td>2015-07-31</td>\n",
       "      <td>13995</td>\n",
       "      <td>1498</td>\n",
       "      <td>1</td>\n",
       "      <td>1</td>\n",
       "      <td>0</td>\n",
       "      <td>1</td>\n",
       "      <td>c</td>\n",
       "      <td>...</td>\n",
       "      <td>0</td>\n",
       "      <td>NaN</td>\n",
       "      <td>NaN</td>\n",
       "      <td>NaN</td>\n",
       "      <td>2015</td>\n",
       "      <td>7</td>\n",
       "      <td>31</td>\n",
       "      <td>31</td>\n",
       "      <td>2015-30</td>\n",
       "      <td>Summer</td>\n",
       "    </tr>\n",
       "    <tr>\n",
       "      <th>4</th>\n",
       "      <td>5</td>\n",
       "      <td>5</td>\n",
       "      <td>2015-07-31</td>\n",
       "      <td>4822</td>\n",
       "      <td>559</td>\n",
       "      <td>1</td>\n",
       "      <td>1</td>\n",
       "      <td>0</td>\n",
       "      <td>1</td>\n",
       "      <td>a</td>\n",
       "      <td>...</td>\n",
       "      <td>0</td>\n",
       "      <td>NaN</td>\n",
       "      <td>NaN</td>\n",
       "      <td>NaN</td>\n",
       "      <td>2015</td>\n",
       "      <td>7</td>\n",
       "      <td>31</td>\n",
       "      <td>31</td>\n",
       "      <td>2015-30</td>\n",
       "      <td>Summer</td>\n",
       "    </tr>\n",
       "  </tbody>\n",
       "</table>\n",
       "<p>5 rows × 24 columns</p>\n",
       "</div>"
      ],
      "text/plain": [
       "   Store  DayOfWeek       Date  Sales  Customers  Open  Promo StateHoliday  \\\n",
       "0      1          5 2015-07-31   5263        555     1      1            0   \n",
       "1      2          5 2015-07-31   6064        625     1      1            0   \n",
       "2      3          5 2015-07-31   8314        821     1      1            0   \n",
       "3      4          5 2015-07-31  13995       1498     1      1            0   \n",
       "4      5          5 2015-07-31   4822        559     1      1            0   \n",
       "\n",
       "   SchoolHoliday StoreType  ... Promo2  Promo2SinceWeek  Promo2SinceYear  \\\n",
       "0              1         c  ...      0              NaN              NaN   \n",
       "1              1         a  ...      1            13.00          2010.00   \n",
       "2              1         a  ...      1            14.00          2011.00   \n",
       "3              1         c  ...      0              NaN              NaN   \n",
       "4              1         a  ...      0              NaN              NaN   \n",
       "\n",
       "     PromoInterval  Year  Month  Day WeekOfYear  YearWeek  Season  \n",
       "0              NaN  2015      7   31         31   2015-30  Summer  \n",
       "1  Jan,Apr,Jul,Oct  2015      7   31         31   2015-30  Summer  \n",
       "2  Jan,Apr,Jul,Oct  2015      7   31         31   2015-30  Summer  \n",
       "3              NaN  2015      7   31         31   2015-30  Summer  \n",
       "4              NaN  2015      7   31         31   2015-30  Summer  \n",
       "\n",
       "[5 rows x 24 columns]"
      ]
     },
     "execution_count": 10,
     "metadata": {},
     "output_type": "execute_result"
    }
   ],
   "source": [
    "# Conjunto de dados sem transformações\n",
    "df1 = df.copy()\n",
    "df1.head()"
   ]
  },
  {
   "cell_type": "code",
   "execution_count": 14,
   "id": "a5a96f0d",
   "metadata": {
    "scrolled": false
   },
   "outputs": [
    {
     "data": {
      "text/plain": [
       "Index(['Store', 'DayOfWeek', 'Date', 'Sales', 'Customers', 'Open', 'Promo',\n",
       "       'StateHoliday', 'SchoolHoliday', 'StoreType', 'Assortment',\n",
       "       'CompetitionDistance', 'CompetitionOpenSinceMonth',\n",
       "       'CompetitionOpenSinceYear', 'Promo2', 'Promo2SinceWeek',\n",
       "       'Promo2SinceYear', 'PromoInterval', 'Year', 'Month', 'Day',\n",
       "       'WeekOfYear', 'YearWeek', 'Season'],\n",
       "      dtype='object')"
      ]
     },
     "execution_count": 14,
     "metadata": {},
     "output_type": "execute_result"
    }
   ],
   "source": [
    "df1.columns"
   ]
  },
  {
   "cell_type": "code",
   "execution_count": 11,
   "id": "bf0153bc",
   "metadata": {},
   "outputs": [],
   "source": [
    "# Transformações\n",
    "# Log variável resposta\n",
    "df1['Sales'] = np.log1p(df1['Sales'])\n",
    "\n",
    "df1 = day_week_month_transform(df1)"
   ]
  },
  {
   "cell_type": "code",
   "execution_count": 12,
   "id": "3fa7a2db",
   "metadata": {},
   "outputs": [],
   "source": [
    "# Define a data limite para separar entre treino e teste\n",
    "limite_data = '2015-06-19'\n",
    "\n",
    "# Separa os dados em treino e teste\n",
    "# Treino\n",
    "X_train = df1[df1['Date'] < limite_data]\n",
    "y_train = X_train['Sales']\n",
    "\n",
    "# Teste\n",
    "X_test = df1[df1['Date'] >= limite_data]\n",
    "y_test = X_test['Sales']"
   ]
  },
  {
   "cell_type": "markdown",
   "id": "8388d873",
   "metadata": {},
   "source": [
    "# PREPARAÇÃO DOS DADOS"
   ]
  },
  {
   "cell_type": "code",
   "execution_count": 13,
   "id": "2293d02f",
   "metadata": {},
   "outputs": [],
   "source": [
    "X_train = X_train.copy()\n",
    "X_test = X_test.copy()"
   ]
  },
  {
   "cell_type": "code",
   "execution_count": 14,
   "id": "f48d6b2f",
   "metadata": {},
   "outputs": [],
   "source": [
    "# Preenchendo missing values\n",
    "X_train = handle_missing_values(X_train)\n",
    "X_test = handle_missing_values(X_test)"
   ]
  },
  {
   "cell_type": "code",
   "execution_count": 15,
   "id": "082f1aaf",
   "metadata": {},
   "outputs": [],
   "source": [
    "# Convertendo tipos de dados\n",
    "X_train['CompetitionOpenSinceMonth'] = X_train['CompetitionOpenSinceMonth'].astype(int)\n",
    "X_train['CompetitionOpenSinceYear'] = X_train['CompetitionOpenSinceYear'].astype(int)\n",
    "X_train['Promo2SinceWeek'] = X_train['Promo2SinceWeek'].astype(int)\n",
    "X_train['Promo2SinceYear'] = X_train['Promo2SinceYear'].astype(int)\n",
    "\n",
    "# Convertendo tipos de dados em X_test\n",
    "X_test['CompetitionOpenSinceMonth'] = X_test['CompetitionOpenSinceMonth'].astype(int)\n",
    "X_test['CompetitionOpenSinceYear'] = X_test['CompetitionOpenSinceYear'].astype(int)\n",
    "X_test['Promo2SinceWeek'] = X_test['Promo2SinceWeek'].astype(int)\n",
    "X_test['Promo2SinceYear'] = X_test['Promo2SinceYear'].astype(int)"
   ]
  },
  {
   "cell_type": "code",
   "execution_count": 16,
   "id": "87af739b",
   "metadata": {
    "scrolled": true
   },
   "outputs": [],
   "source": [
    "# Adicionando features\n",
    "\n",
    "# Competition\n",
    "X_train['CompetitionSince'] = pd.to_datetime(\n",
    "   X_train['CompetitionOpenSinceYear'].astype(\n",
    "        str) + '-' + X_train['CompetitionOpenSinceMonth'].astype(str) + '-01'\n",
    ")\n",
    "\n",
    "X_train['CompetitionTimeMonth'] = (\n",
    "    (X_train['Date'] - X_train['CompetitionSince']) / np.timedelta64(1, 'M')).astype(int)\n",
    "\n",
    "# Promo2 Since\n",
    "promo2since = ((X_train['Year'] - X_train['Promo2SinceYear']) * 12 +\n",
    "               (X_train['WeekOfYear'] - X_train['Promo2SinceWeek']) * 0.230137)\n",
    "X_train['Promo2Since'] = promo2since.clip(lower=0) * X_train['Promo2']\n",
    "\n",
    "# Adicionando features\n",
    "\n",
    "# Competition\n",
    "X_test['CompetitionSince'] = pd.to_datetime(\n",
    "   X_test['CompetitionOpenSinceYear'].astype(\n",
    "        str) + '-' + X_test['CompetitionOpenSinceMonth'].astype(str) + '-01'\n",
    ")\n",
    "\n",
    "X_test['CompetitionTimeMonth'] = (\n",
    "    (X_test['Date'] - X_test['CompetitionSince']) / np.timedelta64(1, 'M')).astype(int)\n",
    "\n",
    "# Promo2 Since\n",
    "promo2since = ((X_test['Year'] - X_test['Promo2SinceYear']) * 12 +\n",
    "               (X_test['WeekOfYear'] - X_test['Promo2SinceWeek']) * 0.230137)\n",
    "X_test['Promo2Since'] = promo2since.clip(lower=0) * X_test['Promo2']"
   ]
  },
  {
   "cell_type": "markdown",
   "id": "770f9bc7",
   "metadata": {},
   "source": [
    "# SPLIT + SELEÇÃO DE FEATURES"
   ]
  },
  {
   "cell_type": "markdown",
   "id": "865c6fcd",
   "metadata": {},
   "source": [
    "## Features rankeadas como relevantes pelo Boruta"
   ]
  },
  {
   "cell_type": "code",
   "execution_count": 17,
   "id": "f95f0670",
   "metadata": {},
   "outputs": [],
   "source": [
    "# Features rankeadas como relevantes pelo Boruta\n",
    "cols_selected_boruta = [['Store', 'Promo', 'CompetitionDistance', 'CompetitionTimeMonth',\n",
    "       'Promo2Since', 'DayOfWeek_cos']]"
   ]
  },
  {
   "cell_type": "code",
   "execution_count": 18,
   "id": "253dbac0",
   "metadata": {},
   "outputs": [],
   "source": [
    "cols_selected = ['Store', 'StoreType', 'CompetitionDistance', 'CompetitionTimeMonth', 'DayOfWeek_sin', 'DayOfWeek_cos',\n",
    "                 'Assortment', 'Promo2', 'Promo2Since', 'Month_sin', 'Month_cos', 'Day_sin', 'Day_cos', 'WeekOfYear_sin',\n",
    "                 'WeekOfYear_cos']\n",
    "\n",
    "feature_add = ['Date', 'Sales']\n",
    "\n",
    "cols_selected_full = cols_selected.copy()\n",
    "cols_selected_full.extend(feature_add)"
   ]
  },
  {
   "cell_type": "code",
   "execution_count": 19,
   "id": "ccbaa2a3",
   "metadata": {},
   "outputs": [],
   "source": [
    "# Colunas selecionadas pelo Boruta\n",
    "X_train_b = X_train[cols_selected] \n",
    "X_test_b = X_test[cols_selected]\n",
    "\n",
    "# time series preparation\n",
    "X_training = X_train[cols_selected_full]"
   ]
  },
  {
   "cell_type": "markdown",
   "id": "d4bfd7bf",
   "metadata": {},
   "source": [
    "# PRÉ-PROCESSAMENTO DOS DADOS"
   ]
  },
  {
   "cell_type": "code",
   "execution_count": 20,
   "id": "cbc0bd0f",
   "metadata": {},
   "outputs": [],
   "source": [
    "# Scaling\n",
    "rs = RobustScaler()\n",
    "\n",
    "# StoreType - OneHotEncoder\n",
    "ohe = OneHotEncoder()\n",
    "\n",
    "# Assortment - Ordinal Encoder\n",
    "oe = OrdinalEncoder(categories=[['a', 'b', 'c']], dtype='int')\n",
    "\n",
    "# Transformations\n",
    "transformations = ColumnTransformer(\n",
    "    [('robust-scaler', rs,\n",
    "      ['CompetitionDistance', 'CompetitionTimeMonth', 'Promo2Since']),\n",
    "     ('ohe', ohe, ['StoreType']), ('ordinal_assortment', oe, ['Assortment'])],\n",
    "    remainder='passthrough')"
   ]
  },
  {
   "cell_type": "code",
   "execution_count": null,
   "id": "9ca8fcc4",
   "metadata": {},
   "outputs": [],
   "source": [
    "# Dump the transformers using pickle\n",
    "with open('transformations.pkl', 'wb') as f:\n",
    "    pickle.dump(transformations, f)"
   ]
  },
  {
   "cell_type": "markdown",
   "id": "c4f631ba",
   "metadata": {},
   "source": [
    "# IMPLEMENTANDO OS MODELOS DE MACHINE LEARNING\n",
    "\n",
    "1. Média\n",
    "2. Linear Regression\n",
    "3. Linear Regression Regularized\n",
    "4. Random Forest Regressor\n",
    "5. XGBoost Regressor"
   ]
  },
  {
   "cell_type": "markdown",
   "id": "a92dea53",
   "metadata": {},
   "source": [
    "## Média\n",
    "\n",
    "- Vamos utilizar a média como comparação para os modelos de machine learning."
   ]
  },
  {
   "cell_type": "code",
   "execution_count": 25,
   "id": "aabb1e0a",
   "metadata": {},
   "outputs": [],
   "source": [
    "x_df = X_test_b.copy()\n",
    "x_df['Sales'] = y_test.copy()"
   ]
  },
  {
   "cell_type": "code",
   "execution_count": 26,
   "id": "0b41e717",
   "metadata": {},
   "outputs": [],
   "source": [
    "# Predições médias\n",
    "mean_sales = x_df[['Store',\n",
    "                   'Sales']].groupby('Store').mean().reset_index().rename(\n",
    "                       columns={'Sales': 'Predictions'})\n",
    "x_df2 = pd.merge(x_df, mean_sales, how='left', on='Store')\n",
    "\n",
    "# Estimativa baseline\n",
    "yhat_baseline = x_df2['Predictions']"
   ]
  },
  {
   "cell_type": "code",
   "execution_count": 27,
   "id": "8bb2eb24",
   "metadata": {},
   "outputs": [],
   "source": [
    "baseline_result = ml_errors('Average', np.expm1(y_test), np.expm1(yhat_baseline))"
   ]
  },
  {
   "cell_type": "code",
   "execution_count": 28,
   "id": "84a34b5b",
   "metadata": {
    "scrolled": true
   },
   "outputs": [
    {
     "data": {
      "text/html": [
       "<div>\n",
       "<style scoped>\n",
       "    .dataframe tbody tr th:only-of-type {\n",
       "        vertical-align: middle;\n",
       "    }\n",
       "\n",
       "    .dataframe tbody tr th {\n",
       "        vertical-align: top;\n",
       "    }\n",
       "\n",
       "    .dataframe thead th {\n",
       "        text-align: right;\n",
       "    }\n",
       "</style>\n",
       "<table border=\"1\" class=\"dataframe\">\n",
       "  <thead>\n",
       "    <tr style=\"text-align: right;\">\n",
       "      <th></th>\n",
       "      <th>Model Name</th>\n",
       "      <th>MAE</th>\n",
       "      <th>MAPE</th>\n",
       "      <th>RMSE</th>\n",
       "    </tr>\n",
       "  </thead>\n",
       "  <tbody>\n",
       "    <tr>\n",
       "      <th>0</th>\n",
       "      <td>Average</td>\n",
       "      <td>1354.80</td>\n",
       "      <td>0.21</td>\n",
       "      <td>1835.14</td>\n",
       "    </tr>\n",
       "  </tbody>\n",
       "</table>\n",
       "</div>"
      ],
      "text/plain": [
       "  Model Name     MAE  MAPE    RMSE\n",
       "0    Average 1354.80  0.21 1835.14"
      ]
     },
     "execution_count": 28,
     "metadata": {},
     "output_type": "execute_result"
    }
   ],
   "source": [
    "baseline_result"
   ]
  },
  {
   "cell_type": "markdown",
   "id": "598fb9b9",
   "metadata": {},
   "source": [
    "## Linear regression"
   ]
  },
  {
   "cell_type": "code",
   "execution_count": 29,
   "id": "ecfc1b5f",
   "metadata": {
    "scrolled": true
   },
   "outputs": [
    {
     "data": {
      "text/html": [
       "<div>\n",
       "<style scoped>\n",
       "    .dataframe tbody tr th:only-of-type {\n",
       "        vertical-align: middle;\n",
       "    }\n",
       "\n",
       "    .dataframe tbody tr th {\n",
       "        vertical-align: top;\n",
       "    }\n",
       "\n",
       "    .dataframe thead th {\n",
       "        text-align: right;\n",
       "    }\n",
       "</style>\n",
       "<table border=\"1\" class=\"dataframe\">\n",
       "  <thead>\n",
       "    <tr style=\"text-align: right;\">\n",
       "      <th></th>\n",
       "      <th>Model Name</th>\n",
       "      <th>MAE</th>\n",
       "      <th>MAPE</th>\n",
       "      <th>RMSE</th>\n",
       "    </tr>\n",
       "  </thead>\n",
       "  <tbody>\n",
       "    <tr>\n",
       "      <th>0</th>\n",
       "      <td>Linear Regression</td>\n",
       "      <td>2096.45</td>\n",
       "      <td>0.33</td>\n",
       "      <td>2929.92</td>\n",
       "    </tr>\n",
       "  </tbody>\n",
       "</table>\n",
       "</div>"
      ],
      "text/plain": [
       "          Model Name     MAE  MAPE    RMSE\n",
       "0  Linear Regression 2096.45  0.33 2929.92"
      ]
     },
     "execution_count": 29,
     "metadata": {},
     "output_type": "execute_result"
    }
   ],
   "source": [
    "# Modelo\n",
    "modelo = LinearRegression()\n",
    "\n",
    "pipeline_lr = Pipeline([('preprocessing', transformations), ('modelo', modelo)])\n",
    "\n",
    "lr = pipeline_lr.fit(X_train_b, y_train)\n",
    "\n",
    "# Predição\n",
    "yhat_lr = lr.predict(X_test_b)\n",
    "\n",
    "# Performance\n",
    "lr_result = ml_errors('Linear Regression', np.expm1(y_test), np.expm1(yhat_lr))\n",
    "lr_result"
   ]
  },
  {
   "cell_type": "markdown",
   "id": "ef1ab926",
   "metadata": {},
   "source": [
    "## Linear Regression Regularized"
   ]
  },
  {
   "cell_type": "code",
   "execution_count": 30,
   "id": "db4b0923",
   "metadata": {},
   "outputs": [
    {
     "data": {
      "text/html": [
       "<div>\n",
       "<style scoped>\n",
       "    .dataframe tbody tr th:only-of-type {\n",
       "        vertical-align: middle;\n",
       "    }\n",
       "\n",
       "    .dataframe tbody tr th {\n",
       "        vertical-align: top;\n",
       "    }\n",
       "\n",
       "    .dataframe thead th {\n",
       "        text-align: right;\n",
       "    }\n",
       "</style>\n",
       "<table border=\"1\" class=\"dataframe\">\n",
       "  <thead>\n",
       "    <tr style=\"text-align: right;\">\n",
       "      <th></th>\n",
       "      <th>Model Name</th>\n",
       "      <th>MAE</th>\n",
       "      <th>MAPE</th>\n",
       "      <th>RMSE</th>\n",
       "    </tr>\n",
       "  </thead>\n",
       "  <tbody>\n",
       "    <tr>\n",
       "      <th>0</th>\n",
       "      <td>Linear Regression Regularized</td>\n",
       "      <td>2131.90</td>\n",
       "      <td>0.33</td>\n",
       "      <td>3014.62</td>\n",
       "    </tr>\n",
       "  </tbody>\n",
       "</table>\n",
       "</div>"
      ],
      "text/plain": [
       "                      Model Name     MAE  MAPE    RMSE\n",
       "0  Linear Regression Regularized 2131.90  0.33 3014.62"
      ]
     },
     "execution_count": 30,
     "metadata": {},
     "output_type": "execute_result"
    }
   ],
   "source": [
    "# modelo com mais colunas\n",
    "# Modelo\n",
    "modelo2 = Lasso(alpha=0.01)\n",
    "pipeline_lrr = Pipeline([('preprocessing', transformations),\n",
    "                      ('modelo2', modelo2)])\n",
    "\n",
    "lrr = pipeline_lrr.fit(X_train_b, y_train)\n",
    "\n",
    "# Predição\n",
    "yhat_lrr = lrr.predict(X_test_b)\n",
    "\n",
    "# Performance\n",
    "lrr_result = ml_errors('Linear Regression Regularized', np.expm1(y_test), np.expm1(yhat_lrr))\n",
    "lrr_result"
   ]
  },
  {
   "cell_type": "markdown",
   "id": "cd76f1a1",
   "metadata": {},
   "source": [
    "- Os erros da linear regression e linear regression regularized são superiores aos erros da média.\n",
    "- Portanto, podemos considerar que os dados não apresentam um comportamento linear. Muito provavelmente modelos lineares não serão suficientes para aprender o padrão de comportamento dos dados."
   ]
  },
  {
   "cell_type": "markdown",
   "id": "e7c69a3f",
   "metadata": {},
   "source": [
    "## Random Forest Regressor"
   ]
  },
  {
   "cell_type": "code",
   "execution_count": 31,
   "id": "9e66241b",
   "metadata": {},
   "outputs": [
    {
     "data": {
      "text/html": [
       "<div>\n",
       "<style scoped>\n",
       "    .dataframe tbody tr th:only-of-type {\n",
       "        vertical-align: middle;\n",
       "    }\n",
       "\n",
       "    .dataframe tbody tr th {\n",
       "        vertical-align: top;\n",
       "    }\n",
       "\n",
       "    .dataframe thead th {\n",
       "        text-align: right;\n",
       "    }\n",
       "</style>\n",
       "<table border=\"1\" class=\"dataframe\">\n",
       "  <thead>\n",
       "    <tr style=\"text-align: right;\">\n",
       "      <th></th>\n",
       "      <th>Model Name</th>\n",
       "      <th>MAE</th>\n",
       "      <th>MAPE</th>\n",
       "      <th>RMSE</th>\n",
       "    </tr>\n",
       "  </thead>\n",
       "  <tbody>\n",
       "    <tr>\n",
       "      <th>0</th>\n",
       "      <td>Random Forest Regressor</td>\n",
       "      <td>826.18</td>\n",
       "      <td>0.12</td>\n",
       "      <td>1213.59</td>\n",
       "    </tr>\n",
       "  </tbody>\n",
       "</table>\n",
       "</div>"
      ],
      "text/plain": [
       "                Model Name    MAE  MAPE    RMSE\n",
       "0  Random Forest Regressor 826.18  0.12 1213.59"
      ]
     },
     "execution_count": 31,
     "metadata": {},
     "output_type": "execute_result"
    }
   ],
   "source": [
    "# Modelo \n",
    "modelo3 = RandomForestRegressor(n_estimators=100, n_jobs=-1, random_state=42)\n",
    "pipeline_rf = Pipeline([('preprocessing', transformations),\n",
    "                      ('modelo3', modelo3)])\n",
    "\n",
    "rf = pipeline_rf.fit(X_train_b, y_train)\n",
    "\n",
    "# Predição\n",
    "yhat_rf = rf.predict(X_test_b)\n",
    "\n",
    "# Performance\n",
    "rf_result = ml_errors('Random Forest Regressor', np.expm1(y_test), np.expm1(yhat_rf))\n",
    "rf_result"
   ]
  },
  {
   "cell_type": "markdown",
   "id": "5ec901f2",
   "metadata": {},
   "source": [
    "## XGBoost Regressor"
   ]
  },
  {
   "cell_type": "code",
   "execution_count": 45,
   "id": "c16f310a",
   "metadata": {
    "scrolled": false
   },
   "outputs": [
    {
     "data": {
      "text/html": [
       "<div>\n",
       "<style scoped>\n",
       "    .dataframe tbody tr th:only-of-type {\n",
       "        vertical-align: middle;\n",
       "    }\n",
       "\n",
       "    .dataframe tbody tr th {\n",
       "        vertical-align: top;\n",
       "    }\n",
       "\n",
       "    .dataframe thead th {\n",
       "        text-align: right;\n",
       "    }\n",
       "</style>\n",
       "<table border=\"1\" class=\"dataframe\">\n",
       "  <thead>\n",
       "    <tr style=\"text-align: right;\">\n",
       "      <th></th>\n",
       "      <th>Model Name</th>\n",
       "      <th>MAE</th>\n",
       "      <th>MAPE</th>\n",
       "      <th>RMSE</th>\n",
       "    </tr>\n",
       "  </thead>\n",
       "  <tbody>\n",
       "    <tr>\n",
       "      <th>0</th>\n",
       "      <td>XGBoost Regressor</td>\n",
       "      <td>953.37</td>\n",
       "      <td>0.14</td>\n",
       "      <td>1391.75</td>\n",
       "    </tr>\n",
       "  </tbody>\n",
       "</table>\n",
       "</div>"
      ],
      "text/plain": [
       "          Model Name    MAE  MAPE    RMSE\n",
       "0  XGBoost Regressor 953.37  0.14 1391.75"
      ]
     },
     "execution_count": 45,
     "metadata": {},
     "output_type": "execute_result"
    }
   ],
   "source": [
    "# Modelo\n",
    "modelo4 = xgb.XGBRegressor(\n",
    "    objective='reg:squarederror',\n",
    "    random_state=42,\n",
    "    n_estimators=1000,\n",
    "    eta=0.01,  # learning_rate\n",
    "    max_depth=10,\n",
    "    subsample=0.7,\n",
    "    colsample_bytree=0.9)\n",
    "\n",
    "pipeline_xgb = Pipeline([('preprocessing', transformations),\n",
    "                      ('modelo4', modelo4)])\n",
    "\n",
    "model_xgb = pipeline_xgb.fit(X_train_b, y_train)\n",
    "\n",
    "# Predição\n",
    "yhat_xgb = model_xgb.predict(X_test_b)\n",
    "\n",
    "# Performance\n",
    "xgb_result = ml_errors('XGBoost Regressor', np.expm1(y_test),\n",
    "                       np.expm1(yhat_xgb))\n",
    "xgb_result"
   ]
  },
  {
   "cell_type": "markdown",
   "id": "573e77ef",
   "metadata": {},
   "source": [
    "## Comparando as performances dos modelos"
   ]
  },
  {
   "cell_type": "code",
   "execution_count": 46,
   "id": "2601fa6f",
   "metadata": {},
   "outputs": [
    {
     "data": {
      "text/html": [
       "<div>\n",
       "<style scoped>\n",
       "    .dataframe tbody tr th:only-of-type {\n",
       "        vertical-align: middle;\n",
       "    }\n",
       "\n",
       "    .dataframe tbody tr th {\n",
       "        vertical-align: top;\n",
       "    }\n",
       "\n",
       "    .dataframe thead th {\n",
       "        text-align: right;\n",
       "    }\n",
       "</style>\n",
       "<table border=\"1\" class=\"dataframe\">\n",
       "  <thead>\n",
       "    <tr style=\"text-align: right;\">\n",
       "      <th></th>\n",
       "      <th>Model Name</th>\n",
       "      <th>MAE</th>\n",
       "      <th>MAPE</th>\n",
       "      <th>RMSE</th>\n",
       "    </tr>\n",
       "  </thead>\n",
       "  <tbody>\n",
       "    <tr>\n",
       "      <th>0</th>\n",
       "      <td>Random Forest Regressor</td>\n",
       "      <td>826.18</td>\n",
       "      <td>0.12</td>\n",
       "      <td>1213.59</td>\n",
       "    </tr>\n",
       "    <tr>\n",
       "      <th>0</th>\n",
       "      <td>XGBoost Regressor</td>\n",
       "      <td>953.37</td>\n",
       "      <td>0.14</td>\n",
       "      <td>1391.75</td>\n",
       "    </tr>\n",
       "    <tr>\n",
       "      <th>0</th>\n",
       "      <td>Average</td>\n",
       "      <td>1354.80</td>\n",
       "      <td>0.21</td>\n",
       "      <td>1835.14</td>\n",
       "    </tr>\n",
       "    <tr>\n",
       "      <th>0</th>\n",
       "      <td>Linear Regression</td>\n",
       "      <td>2096.45</td>\n",
       "      <td>0.33</td>\n",
       "      <td>2929.92</td>\n",
       "    </tr>\n",
       "    <tr>\n",
       "      <th>0</th>\n",
       "      <td>Linear Regression Regularized</td>\n",
       "      <td>2131.90</td>\n",
       "      <td>0.33</td>\n",
       "      <td>3014.62</td>\n",
       "    </tr>\n",
       "  </tbody>\n",
       "</table>\n",
       "</div>"
      ],
      "text/plain": [
       "                      Model Name     MAE  MAPE    RMSE\n",
       "0        Random Forest Regressor  826.18  0.12 1213.59\n",
       "0              XGBoost Regressor  953.37  0.14 1391.75\n",
       "0                        Average 1354.80  0.21 1835.14\n",
       "0              Linear Regression 2096.45  0.33 2929.92\n",
       "0  Linear Regression Regularized 2131.90  0.33 3014.62"
      ]
     },
     "execution_count": 46,
     "metadata": {},
     "output_type": "execute_result"
    }
   ],
   "source": [
    "modelling_result = pd.concat([baseline_result, lr_result, lrr_result, rf_result, xgb_result])\n",
    "modelling_result.sort_values('RMSE')"
   ]
  },
  {
   "cell_type": "markdown",
   "id": "84ebd820",
   "metadata": {},
   "source": [
    "# CROSS VALIDATION"
   ]
  },
  {
   "cell_type": "markdown",
   "id": "f03934be",
   "metadata": {},
   "source": [
    "## Linear Regression"
   ]
  },
  {
   "cell_type": "code",
   "execution_count": 48,
   "id": "d3b2b67f",
   "metadata": {
    "scrolled": true
   },
   "outputs": [
    {
     "name": "stdout",
     "output_type": "stream",
     "text": [
      "\n",
      "KFold Number: 5\n",
      "\n",
      "KFold Number: 5\n",
      "\n",
      "KFold Number: 5\n",
      "\n",
      "KFold Number: 5\n",
      "\n",
      "KFold Number: 5\n"
     ]
    },
    {
     "data": {
      "text/html": [
       "<div>\n",
       "<style scoped>\n",
       "    .dataframe tbody tr th:only-of-type {\n",
       "        vertical-align: middle;\n",
       "    }\n",
       "\n",
       "    .dataframe tbody tr th {\n",
       "        vertical-align: top;\n",
       "    }\n",
       "\n",
       "    .dataframe thead th {\n",
       "        text-align: right;\n",
       "    }\n",
       "</style>\n",
       "<table border=\"1\" class=\"dataframe\">\n",
       "  <thead>\n",
       "    <tr style=\"text-align: right;\">\n",
       "      <th></th>\n",
       "      <th>Model Name</th>\n",
       "      <th>MAE CV</th>\n",
       "      <th>MAPE CV</th>\n",
       "      <th>RMSE CV</th>\n",
       "    </tr>\n",
       "  </thead>\n",
       "  <tbody>\n",
       "    <tr>\n",
       "      <th>mean</th>\n",
       "      <td>Linear Regression</td>\n",
       "      <td>2204.71</td>\n",
       "      <td>0.36</td>\n",
       "      <td>3041.01</td>\n",
       "    </tr>\n",
       "    <tr>\n",
       "      <th>std</th>\n",
       "      <td>Linear Regression</td>\n",
       "      <td>113.73</td>\n",
       "      <td>0.01</td>\n",
       "      <td>184.58</td>\n",
       "    </tr>\n",
       "  </tbody>\n",
       "</table>\n",
       "</div>"
      ],
      "text/plain": [
       "             Model Name  MAE CV  MAPE CV  RMSE CV\n",
       "mean  Linear Regression 2204.71     0.36  3041.01\n",
       "std   Linear Regression  113.73     0.01   184.58"
      ]
     },
     "execution_count": 48,
     "metadata": {},
     "output_type": "execute_result"
    }
   ],
   "source": [
    "lr_cv = cross_validation(X_training, 'Linear Regression',\n",
    "                         LinearRegression(), kfold=5, verbose=True)\n",
    "lr_cv"
   ]
  },
  {
   "cell_type": "markdown",
   "id": "ed2ea2fe",
   "metadata": {},
   "source": [
    "## Linear Regression Regularized"
   ]
  },
  {
   "cell_type": "code",
   "execution_count": 49,
   "id": "9d1e6d72",
   "metadata": {
    "scrolled": true
   },
   "outputs": [
    {
     "name": "stdout",
     "output_type": "stream",
     "text": [
      "\n",
      "KFold Number: 5\n",
      "\n",
      "KFold Number: 5\n",
      "\n",
      "KFold Number: 5\n",
      "\n",
      "KFold Number: 5\n",
      "\n",
      "KFold Number: 5\n"
     ]
    },
    {
     "data": {
      "text/html": [
       "<div>\n",
       "<style scoped>\n",
       "    .dataframe tbody tr th:only-of-type {\n",
       "        vertical-align: middle;\n",
       "    }\n",
       "\n",
       "    .dataframe tbody tr th {\n",
       "        vertical-align: top;\n",
       "    }\n",
       "\n",
       "    .dataframe thead th {\n",
       "        text-align: right;\n",
       "    }\n",
       "</style>\n",
       "<table border=\"1\" class=\"dataframe\">\n",
       "  <thead>\n",
       "    <tr style=\"text-align: right;\">\n",
       "      <th></th>\n",
       "      <th>Model Name</th>\n",
       "      <th>MAE CV</th>\n",
       "      <th>MAPE CV</th>\n",
       "      <th>RMSE CV</th>\n",
       "    </tr>\n",
       "  </thead>\n",
       "  <tbody>\n",
       "    <tr>\n",
       "      <th>mean</th>\n",
       "      <td>Linear Regression Regularized</td>\n",
       "      <td>2248.00</td>\n",
       "      <td>0.37</td>\n",
       "      <td>3133.63</td>\n",
       "    </tr>\n",
       "    <tr>\n",
       "      <th>std</th>\n",
       "      <td>Linear Regression Regularized</td>\n",
       "      <td>90.11</td>\n",
       "      <td>0.01</td>\n",
       "      <td>167.91</td>\n",
       "    </tr>\n",
       "  </tbody>\n",
       "</table>\n",
       "</div>"
      ],
      "text/plain": [
       "                         Model Name  MAE CV  MAPE CV  RMSE CV\n",
       "mean  Linear Regression Regularized 2248.00     0.37  3133.63\n",
       "std   Linear Regression Regularized   90.11     0.01   167.91"
      ]
     },
     "execution_count": 49,
     "metadata": {},
     "output_type": "execute_result"
    }
   ],
   "source": [
    "lss_cv = cross_validation(X_training, 'Linear Regression Regularized',\n",
    "                         Lasso(), kfold=5, verbose=True)\n",
    "lss_cv"
   ]
  },
  {
   "cell_type": "markdown",
   "id": "27866c59",
   "metadata": {},
   "source": [
    "## Random Forest Regressor"
   ]
  },
  {
   "cell_type": "code",
   "execution_count": 50,
   "id": "3075e323",
   "metadata": {
    "scrolled": true
   },
   "outputs": [
    {
     "name": "stdout",
     "output_type": "stream",
     "text": [
      "\n",
      "KFold Number: 5\n",
      "\n",
      "KFold Number: 5\n",
      "\n",
      "KFold Number: 5\n",
      "\n",
      "KFold Number: 5\n",
      "\n",
      "KFold Number: 5\n"
     ]
    },
    {
     "data": {
      "text/html": [
       "<div>\n",
       "<style scoped>\n",
       "    .dataframe tbody tr th:only-of-type {\n",
       "        vertical-align: middle;\n",
       "    }\n",
       "\n",
       "    .dataframe tbody tr th {\n",
       "        vertical-align: top;\n",
       "    }\n",
       "\n",
       "    .dataframe thead th {\n",
       "        text-align: right;\n",
       "    }\n",
       "</style>\n",
       "<table border=\"1\" class=\"dataframe\">\n",
       "  <thead>\n",
       "    <tr style=\"text-align: right;\">\n",
       "      <th></th>\n",
       "      <th>Model Name</th>\n",
       "      <th>MAE CV</th>\n",
       "      <th>MAPE CV</th>\n",
       "      <th>RMSE CV</th>\n",
       "    </tr>\n",
       "  </thead>\n",
       "  <tbody>\n",
       "    <tr>\n",
       "      <th>mean</th>\n",
       "      <td>Random Forest Regressor</td>\n",
       "      <td>1438.87</td>\n",
       "      <td>0.23</td>\n",
       "      <td>2089.74</td>\n",
       "    </tr>\n",
       "    <tr>\n",
       "      <th>std</th>\n",
       "      <td>Random Forest Regressor</td>\n",
       "      <td>164.40</td>\n",
       "      <td>0.02</td>\n",
       "      <td>245.91</td>\n",
       "    </tr>\n",
       "  </tbody>\n",
       "</table>\n",
       "</div>"
      ],
      "text/plain": [
       "                   Model Name  MAE CV  MAPE CV  RMSE CV\n",
       "mean  Random Forest Regressor 1438.87     0.23  2089.74\n",
       "std   Random Forest Regressor  164.40     0.02   245.91"
      ]
     },
     "execution_count": 50,
     "metadata": {},
     "output_type": "execute_result"
    }
   ],
   "source": [
    "rf_cv = cross_validation(X_training, 'Random Forest Regressor',\n",
    "                         RandomForestRegressor(), kfold=5, verbose=True)\n",
    "rf_cv"
   ]
  },
  {
   "cell_type": "markdown",
   "id": "5231eaa5",
   "metadata": {},
   "source": [
    "## XGBoost Regressor"
   ]
  },
  {
   "cell_type": "code",
   "execution_count": 51,
   "id": "2a5fefff",
   "metadata": {},
   "outputs": [
    {
     "name": "stdout",
     "output_type": "stream",
     "text": [
      "\n",
      "KFold Number: 5\n",
      "\n",
      "KFold Number: 5\n",
      "\n",
      "KFold Number: 5\n",
      "\n",
      "KFold Number: 5\n",
      "\n",
      "KFold Number: 5\n"
     ]
    },
    {
     "data": {
      "text/html": [
       "<div>\n",
       "<style scoped>\n",
       "    .dataframe tbody tr th:only-of-type {\n",
       "        vertical-align: middle;\n",
       "    }\n",
       "\n",
       "    .dataframe tbody tr th {\n",
       "        vertical-align: top;\n",
       "    }\n",
       "\n",
       "    .dataframe thead th {\n",
       "        text-align: right;\n",
       "    }\n",
       "</style>\n",
       "<table border=\"1\" class=\"dataframe\">\n",
       "  <thead>\n",
       "    <tr style=\"text-align: right;\">\n",
       "      <th></th>\n",
       "      <th>Model Name</th>\n",
       "      <th>MAE CV</th>\n",
       "      <th>MAPE CV</th>\n",
       "      <th>RMSE CV</th>\n",
       "    </tr>\n",
       "  </thead>\n",
       "  <tbody>\n",
       "    <tr>\n",
       "      <th>mean</th>\n",
       "      <td>XGBoost</td>\n",
       "      <td>1432.58</td>\n",
       "      <td>0.23</td>\n",
       "      <td>1981.86</td>\n",
       "    </tr>\n",
       "    <tr>\n",
       "      <th>std</th>\n",
       "      <td>XGBoost</td>\n",
       "      <td>138.61</td>\n",
       "      <td>0.02</td>\n",
       "      <td>208.18</td>\n",
       "    </tr>\n",
       "  </tbody>\n",
       "</table>\n",
       "</div>"
      ],
      "text/plain": [
       "     Model Name  MAE CV  MAPE CV  RMSE CV\n",
       "mean    XGBoost 1432.58     0.23  1981.86\n",
       "std     XGBoost  138.61     0.02   208.18"
      ]
     },
     "execution_count": 51,
     "metadata": {},
     "output_type": "execute_result"
    }
   ],
   "source": [
    "xgb_cv = cross_validation(\n",
    "    X_training, 'XGBoost',\n",
    "    xgb.XGBRegressor(objective='reg:squarederror',\n",
    "                     n_estimators=1000,\n",
    "                     eta=0.01,\n",
    "                     max_depth=10,\n",
    "                     subsample=0.7,\n",
    "                     colsample_bytree=0.9), kfold=5, verbose=True)\n",
    "xgb_cv"
   ]
  },
  {
   "cell_type": "markdown",
   "id": "991a4313",
   "metadata": {},
   "source": [
    "## Comparando as performances dos modelos com cross validation"
   ]
  },
  {
   "cell_type": "code",
   "execution_count": 52,
   "id": "7ccaaecc",
   "metadata": {
    "scrolled": false
   },
   "outputs": [
    {
     "data": {
      "text/html": [
       "<div>\n",
       "<style scoped>\n",
       "    .dataframe tbody tr th:only-of-type {\n",
       "        vertical-align: middle;\n",
       "    }\n",
       "\n",
       "    .dataframe tbody tr th {\n",
       "        vertical-align: top;\n",
       "    }\n",
       "\n",
       "    .dataframe thead th {\n",
       "        text-align: right;\n",
       "    }\n",
       "</style>\n",
       "<table border=\"1\" class=\"dataframe\">\n",
       "  <thead>\n",
       "    <tr style=\"text-align: right;\">\n",
       "      <th></th>\n",
       "      <th>Model Name</th>\n",
       "      <th>MAE CV</th>\n",
       "      <th>MAPE CV</th>\n",
       "      <th>RMSE CV</th>\n",
       "    </tr>\n",
       "  </thead>\n",
       "  <tbody>\n",
       "    <tr>\n",
       "      <th>mean</th>\n",
       "      <td>Linear Regression</td>\n",
       "      <td>2204.71</td>\n",
       "      <td>0.36</td>\n",
       "      <td>3041.01</td>\n",
       "    </tr>\n",
       "    <tr>\n",
       "      <th>std</th>\n",
       "      <td>Linear Regression</td>\n",
       "      <td>113.73</td>\n",
       "      <td>0.01</td>\n",
       "      <td>184.58</td>\n",
       "    </tr>\n",
       "    <tr>\n",
       "      <th>mean</th>\n",
       "      <td>Linear Regression Regularized</td>\n",
       "      <td>2248.00</td>\n",
       "      <td>0.37</td>\n",
       "      <td>3133.63</td>\n",
       "    </tr>\n",
       "    <tr>\n",
       "      <th>std</th>\n",
       "      <td>Linear Regression Regularized</td>\n",
       "      <td>90.11</td>\n",
       "      <td>0.01</td>\n",
       "      <td>167.91</td>\n",
       "    </tr>\n",
       "    <tr>\n",
       "      <th>mean</th>\n",
       "      <td>Random Forest Regressor</td>\n",
       "      <td>1438.87</td>\n",
       "      <td>0.23</td>\n",
       "      <td>2089.74</td>\n",
       "    </tr>\n",
       "    <tr>\n",
       "      <th>std</th>\n",
       "      <td>Random Forest Regressor</td>\n",
       "      <td>164.40</td>\n",
       "      <td>0.02</td>\n",
       "      <td>245.91</td>\n",
       "    </tr>\n",
       "    <tr>\n",
       "      <th>mean</th>\n",
       "      <td>XGBoost</td>\n",
       "      <td>1432.58</td>\n",
       "      <td>0.23</td>\n",
       "      <td>1981.86</td>\n",
       "    </tr>\n",
       "    <tr>\n",
       "      <th>std</th>\n",
       "      <td>XGBoost</td>\n",
       "      <td>138.61</td>\n",
       "      <td>0.02</td>\n",
       "      <td>208.18</td>\n",
       "    </tr>\n",
       "  </tbody>\n",
       "</table>\n",
       "</div>"
      ],
      "text/plain": [
       "                         Model Name  MAE CV  MAPE CV  RMSE CV\n",
       "mean              Linear Regression 2204.71     0.36  3041.01\n",
       "std               Linear Regression  113.73     0.01   184.58\n",
       "mean  Linear Regression Regularized 2248.00     0.37  3133.63\n",
       "std   Linear Regression Regularized   90.11     0.01   167.91\n",
       "mean        Random Forest Regressor 1438.87     0.23  2089.74\n",
       "std         Random Forest Regressor  164.40     0.02   245.91\n",
       "mean                        XGBoost 1432.58     0.23  1981.86\n",
       "std                         XGBoost  138.61     0.02   208.18"
      ]
     },
     "execution_count": 52,
     "metadata": {},
     "output_type": "execute_result"
    }
   ],
   "source": [
    "modelling_result_cv = pd.concat([lr_cv, lss_cv, rf_cv, xgb_cv])\n",
    "modelling_result_cv"
   ]
  },
  {
   "cell_type": "code",
   "execution_count": 54,
   "id": "a9319feb",
   "metadata": {},
   "outputs": [],
   "source": [
    "modelling_result.to_csv('modelling_result_cross_validation.csv')"
   ]
  },
  {
   "cell_type": "markdown",
   "id": "9416e3f5",
   "metadata": {},
   "source": [
    "# XGBOOST REGRESSOR"
   ]
  },
  {
   "cell_type": "markdown",
   "id": "20a59426",
   "metadata": {},
   "source": [
    "   Ao construir um modelo de regressão XGBoost, o algoritmo cria uma árvore de decisão inicial simples e em seguida, utiliza a técnica de boosting, que consiste em adicionar árvores subsequentes para melhorar o desempenho do modelo. Cada árvore subsequente é construída de modo a corrigir os resíduos da saída anterior, buscando aproximar ainda mais os valores preditos dos valores reais do problema em questão. A combinação de diversas árvores de decisão permite que o modelo XGBoost obtenha resultados precisos e de alta qualidade em problemas de regressão."
   ]
  },
  {
   "cell_type": "markdown",
   "id": "6f86cfe4",
   "metadata": {},
   "source": [
    "**Alguns hiperparâmetros do XGBoost:**\n",
    "\n",
    "**n_estimators:** Determina o número de árvores de decisão que serão criadas no modelo. Quanto maior o número, mais preciso será o modelo, mas também pode aumentar o tempo de treinamento.\n",
    "\n",
    "**eta:** Controla a taxa de aprendizado do modelo. Em outras palavras, ele determina a rapidez com que o modelo deve se adaptar aos dados de treinamento. Um valor menor significa que o modelo levará mais tempo para se adaptar aos dados, mas isso pode resultar em um modelo mais preciso.\n",
    "\n",
    "**max_depth:** Controla a profundidade máxima de cada árvore de decisão no modelo. Se o valor for muito baixo, o modelo pode não ser capaz de capturar toda a complexidade dos dados e, se for muito alto, pode resultar em sobreajuste.\n",
    "\n",
    "**subsample:** Determina a fração das amostras que serão usadas na próxima rodade de boosting. Um valor menor significa que o modelo usará menos dados para treinar cada árvore, o que pode torná-lo menos sensível a ruídos, mas também pode levar a um modelo menos preciso.\n",
    "\n",
    "**colsample_bytree:** Determina a fração das colunas que serão usados para treinar cada árvore de decisão. Um valor menor significa que o modelo usará menos recursos para treinar cada árvore, o que pode torná-lo menos sensível a ruídos, mas também pode levar a um modelo menos preciso.\n",
    "\n",
    "**min_child_weight:** Controla a quantidade mínima de amostras que são necessárias em cada nó da árvore de decisão. Um valor maior significa que cada nó precisará de mais amostras para ser considerado um nó válido, o que pode tornar o modelo menos sensível a ruídos, mas também pode levar a um modelo menos preciso."
   ]
  },
  {
   "cell_type": "markdown",
   "id": "369dd0ec",
   "metadata": {},
   "source": [
    "## XGBoost Hyperparameter Tuning: Random Search\n",
    "\n",
    "\n",
    "- Random Search consiste em definir um conjunto de valores possíveis para cada hiperparâmetro e selecionar aleatoriamente um conjunto de valores para treinar o modelo, repetindo esse processo várias vezes com diferentes conjuntos de valores aleatórios até que o melhor conjunto de valores seja encontrado. \n",
    "\n",
    "- Essa abordagem pode ser mais eficiente e econômica em termos de tempo e recursos computacionais, especialmente quando o número de hiperparâmetros é grande.\n",
    "\n",
    "- Entretanto, a seleção aleatória de hiperparâmetros pode levar a uma exploração ineficiente do espaço de busca. Por exemplo, pode haver regiões do espaço de hiperparâmetros que nunca são exploradas e portanto, a otimização pode não ser tão boa em comparação a outras técnicas que tentam explorar de forma mais sistemática todo o espaço de hiperparâmetros."
   ]
  },
  {
   "cell_type": "code",
   "execution_count": 48,
   "id": "434d3f33",
   "metadata": {},
   "outputs": [],
   "source": [
    "# Definir os hiperparâmetros e seus valores\n",
    "params = {'n_estimators': [1000, 1500, 1700, 2000],\n",
    "           'eta': [0.05, 0.1, 0.15, 0.2],\n",
    "           'max_depth': [3, 5, 7, 9],\n",
    "           'subsample': [0.6, 0.7, 0.8, 0.9],\n",
    "           'colsample_bytree': [0.6, 0.7, 0.8, 0.9],\n",
    "           'min_child_weight': [5, 8, 15]}"
   ]
  },
  {
   "cell_type": "code",
   "execution_count": 49,
   "id": "f38571b5",
   "metadata": {},
   "outputs": [
    {
     "name": "stdout",
     "output_type": "stream",
     "text": [
      "{'n_estimators': 1000, 'eta': 0.1, 'max_depth': 9, 'subsample': 0.9, 'colsample_bytree': 0.9, 'min_child_weight': 5}\n",
      "{'n_estimators': 1700, 'eta': 0.05, 'max_depth': 3, 'subsample': 0.7, 'colsample_bytree': 0.9, 'min_child_weight': 8}\n",
      "{'n_estimators': 1700, 'eta': 0.05, 'max_depth': 3, 'subsample': 0.9, 'colsample_bytree': 0.8, 'min_child_weight': 5}\n",
      "{'n_estimators': 1500, 'eta': 0.15, 'max_depth': 5, 'subsample': 0.7, 'colsample_bytree': 0.6, 'min_child_weight': 8}\n",
      "{'n_estimators': 1500, 'eta': 0.1, 'max_depth': 7, 'subsample': 0.9, 'colsample_bytree': 0.6, 'min_child_weight': 15}\n",
      "{'n_estimators': 1500, 'eta': 0.15, 'max_depth': 7, 'subsample': 0.6, 'colsample_bytree': 0.6, 'min_child_weight': 8}\n",
      "{'n_estimators': 1500, 'eta': 0.2, 'max_depth': 9, 'subsample': 0.8, 'colsample_bytree': 0.6, 'min_child_weight': 5}\n",
      "{'n_estimators': 1500, 'eta': 0.15, 'max_depth': 7, 'subsample': 0.7, 'colsample_bytree': 0.7, 'min_child_weight': 15}\n",
      "{'n_estimators': 1000, 'eta': 0.15, 'max_depth': 7, 'subsample': 0.9, 'colsample_bytree': 0.7, 'min_child_weight': 5}\n",
      "{'n_estimators': 2000, 'eta': 0.05, 'max_depth': 9, 'subsample': 0.6, 'colsample_bytree': 0.7, 'min_child_weight': 15}\n"
     ]
    },
    {
     "data": {
      "text/html": [
       "<div>\n",
       "<style scoped>\n",
       "    .dataframe tbody tr th:only-of-type {\n",
       "        vertical-align: middle;\n",
       "    }\n",
       "\n",
       "    .dataframe tbody tr th {\n",
       "        vertical-align: top;\n",
       "    }\n",
       "\n",
       "    .dataframe thead th {\n",
       "        text-align: right;\n",
       "    }\n",
       "</style>\n",
       "<table border=\"1\" class=\"dataframe\">\n",
       "  <thead>\n",
       "    <tr style=\"text-align: right;\">\n",
       "      <th></th>\n",
       "      <th>Model Name</th>\n",
       "      <th>MAE CV</th>\n",
       "      <th>MAPE CV</th>\n",
       "      <th>RMSE CV</th>\n",
       "    </tr>\n",
       "  </thead>\n",
       "  <tbody>\n",
       "    <tr>\n",
       "      <th>mean</th>\n",
       "      <td>XGBoost</td>\n",
       "      <td>1296.09</td>\n",
       "      <td>0.20</td>\n",
       "      <td>1820.39</td>\n",
       "    </tr>\n",
       "    <tr>\n",
       "      <th>std</th>\n",
       "      <td>XGBoost</td>\n",
       "      <td>181.60</td>\n",
       "      <td>0.03</td>\n",
       "      <td>252.03</td>\n",
       "    </tr>\n",
       "    <tr>\n",
       "      <th>mean</th>\n",
       "      <td>XGBoost</td>\n",
       "      <td>1617.27</td>\n",
       "      <td>0.26</td>\n",
       "      <td>2198.09</td>\n",
       "    </tr>\n",
       "    <tr>\n",
       "      <th>std</th>\n",
       "      <td>XGBoost</td>\n",
       "      <td>107.15</td>\n",
       "      <td>0.02</td>\n",
       "      <td>165.15</td>\n",
       "    </tr>\n",
       "    <tr>\n",
       "      <th>mean</th>\n",
       "      <td>XGBoost</td>\n",
       "      <td>1615.99</td>\n",
       "      <td>0.26</td>\n",
       "      <td>2200.65</td>\n",
       "    </tr>\n",
       "    <tr>\n",
       "      <th>std</th>\n",
       "      <td>XGBoost</td>\n",
       "      <td>128.46</td>\n",
       "      <td>0.02</td>\n",
       "      <td>191.38</td>\n",
       "    </tr>\n",
       "    <tr>\n",
       "      <th>mean</th>\n",
       "      <td>XGBoost</td>\n",
       "      <td>1344.84</td>\n",
       "      <td>0.21</td>\n",
       "      <td>1875.63</td>\n",
       "    </tr>\n",
       "    <tr>\n",
       "      <th>std</th>\n",
       "      <td>XGBoost</td>\n",
       "      <td>188.06</td>\n",
       "      <td>0.03</td>\n",
       "      <td>268.84</td>\n",
       "    </tr>\n",
       "    <tr>\n",
       "      <th>mean</th>\n",
       "      <td>XGBoost</td>\n",
       "      <td>1292.85</td>\n",
       "      <td>0.20</td>\n",
       "      <td>1806.32</td>\n",
       "    </tr>\n",
       "    <tr>\n",
       "      <th>std</th>\n",
       "      <td>XGBoost</td>\n",
       "      <td>188.17</td>\n",
       "      <td>0.03</td>\n",
       "      <td>262.98</td>\n",
       "    </tr>\n",
       "    <tr>\n",
       "      <th>mean</th>\n",
       "      <td>XGBoost</td>\n",
       "      <td>1302.73</td>\n",
       "      <td>0.20</td>\n",
       "      <td>1824.15</td>\n",
       "    </tr>\n",
       "    <tr>\n",
       "      <th>std</th>\n",
       "      <td>XGBoost</td>\n",
       "      <td>179.73</td>\n",
       "      <td>0.03</td>\n",
       "      <td>258.40</td>\n",
       "    </tr>\n",
       "    <tr>\n",
       "      <th>mean</th>\n",
       "      <td>XGBoost</td>\n",
       "      <td>1333.20</td>\n",
       "      <td>0.20</td>\n",
       "      <td>1872.61</td>\n",
       "    </tr>\n",
       "    <tr>\n",
       "      <th>std</th>\n",
       "      <td>XGBoost</td>\n",
       "      <td>182.52</td>\n",
       "      <td>0.02</td>\n",
       "      <td>252.96</td>\n",
       "    </tr>\n",
       "    <tr>\n",
       "      <th>mean</th>\n",
       "      <td>XGBoost</td>\n",
       "      <td>1277.83</td>\n",
       "      <td>0.20</td>\n",
       "      <td>1786.06</td>\n",
       "    </tr>\n",
       "    <tr>\n",
       "      <th>std</th>\n",
       "      <td>XGBoost</td>\n",
       "      <td>164.92</td>\n",
       "      <td>0.02</td>\n",
       "      <td>236.32</td>\n",
       "    </tr>\n",
       "    <tr>\n",
       "      <th>mean</th>\n",
       "      <td>XGBoost</td>\n",
       "      <td>1308.60</td>\n",
       "      <td>0.20</td>\n",
       "      <td>1832.65</td>\n",
       "    </tr>\n",
       "    <tr>\n",
       "      <th>std</th>\n",
       "      <td>XGBoost</td>\n",
       "      <td>172.44</td>\n",
       "      <td>0.02</td>\n",
       "      <td>248.18</td>\n",
       "    </tr>\n",
       "    <tr>\n",
       "      <th>mean</th>\n",
       "      <td>XGBoost</td>\n",
       "      <td>1259.81</td>\n",
       "      <td>0.20</td>\n",
       "      <td>1761.93</td>\n",
       "    </tr>\n",
       "    <tr>\n",
       "      <th>std</th>\n",
       "      <td>XGBoost</td>\n",
       "      <td>172.36</td>\n",
       "      <td>0.03</td>\n",
       "      <td>242.23</td>\n",
       "    </tr>\n",
       "  </tbody>\n",
       "</table>\n",
       "</div>"
      ],
      "text/plain": [
       "     Model Name  MAE CV  MAPE CV  RMSE CV\n",
       "mean    XGBoost 1296.09     0.20  1820.39\n",
       "std     XGBoost  181.60     0.03   252.03\n",
       "mean    XGBoost 1617.27     0.26  2198.09\n",
       "std     XGBoost  107.15     0.02   165.15\n",
       "mean    XGBoost 1615.99     0.26  2200.65\n",
       "std     XGBoost  128.46     0.02   191.38\n",
       "mean    XGBoost 1344.84     0.21  1875.63\n",
       "std     XGBoost  188.06     0.03   268.84\n",
       "mean    XGBoost 1292.85     0.20  1806.32\n",
       "std     XGBoost  188.17     0.03   262.98\n",
       "mean    XGBoost 1302.73     0.20  1824.15\n",
       "std     XGBoost  179.73     0.03   258.40\n",
       "mean    XGBoost 1333.20     0.20  1872.61\n",
       "std     XGBoost  182.52     0.02   252.96\n",
       "mean    XGBoost 1277.83     0.20  1786.06\n",
       "std     XGBoost  164.92     0.02   236.32\n",
       "mean    XGBoost 1308.60     0.20  1832.65\n",
       "std     XGBoost  172.44     0.02   248.18\n",
       "mean    XGBoost 1259.81     0.20  1761.93\n",
       "std     XGBoost  172.36     0.03   242.23"
      ]
     },
     "execution_count": 49,
     "metadata": {},
     "output_type": "execute_result"
    }
   ],
   "source": [
    "# Dataframe vazio para armazenar os resultados da validação cruzada\n",
    "final_result = pd.DataFrame()\n",
    "# Define o n° máximo de iterações da busca de hiperparâmetros\n",
    "max_eval = 10 \n",
    "\n",
    "for i in range(max_eval):\n",
    "  hp = {k: random.sample(v,1)[0] for k,v in params.items()}\n",
    "  print(hp)\n",
    "\n",
    "  xgb_model = xgb.XGBRegressor(objective = 'reg:squarederror', \n",
    "                        n_estimators = hp['n_estimators'], \n",
    "                        eta = hp['eta'],\n",
    "                        max_depth = hp['max_depth'], \n",
    "                        subsample = hp['subsample'], \n",
    "                        colsample_bytree = hp['colsample_bytree'],\n",
    "                        min_child_weight=hp['min_child_weight'])\n",
    "\n",
    "  result = cross_validation(X_training, 'XGBoost', xgb_model, kfold=5)\n",
    "  final_result = pd.concat([final_result, result])\n",
    "\n",
    "final_result"
   ]
  },
  {
   "cell_type": "markdown",
   "id": "053b429f",
   "metadata": {
    "scrolled": false
   },
   "source": [
    "## Modelo final"
   ]
  },
  {
   "cell_type": "markdown",
   "id": "0c090e30",
   "metadata": {},
   "source": [
    " Hiperparâmetro | Melhor valor\n",
    " :------------|:---------\n",
    " n_estimators | 2000\n",
    " eta | 0.05\n",
    " max_depht | 9 \n",
    " subsample | 0.6\n",
    " colsample_bytree | 0.7 \n",
    " min_child_weight | 15"
   ]
  },
  {
   "cell_type": "code",
   "execution_count": null,
   "id": "333a977c",
   "metadata": {},
   "outputs": [],
   "source": [
    "#{'n_estimators': 2000, 'eta': 0.05, 'max_depth': 9, 'subsample': 0.6, 'colsample_bytree': 0.7, 'min_child_weight': 15}"
   ]
  },
  {
   "cell_type": "code",
   "execution_count": 50,
   "id": "ffc20d42",
   "metadata": {},
   "outputs": [],
   "source": [
    "# Hiperparâmetros definidos\n",
    "params_tuned = {'n_estimators': 2000,\n",
    "                'eta': 0.05,\n",
    "                'max_depth': 9,\n",
    "                'subsample': 0.6,\n",
    "                'colsample_bytree': 0.7,\n",
    "                'min_child_weight': 15}\n",
    "\n",
    "modelo = xgb.XGBRegressor(objective='reg:squarederror',\n",
    "                          n_estimators=params_tuned['n_estimators'],\n",
    "                          eta=params_tuned['eta'],\n",
    "                          max_depth=params_tuned['max_depth'],\n",
    "                          subsample=params_tuned['subsample'],\n",
    "                          colsample_bytree=params_tuned['colsample_bytree'],\n",
    "                          min_child_weight=params_tuned['min_child_weight'])\n",
    "\n",
    "\n",
    "pipeline_final = Pipeline([('preprocessing', transformations),\n",
    "                           ('model', modelo)])\n",
    "\n",
    "xgb_model = pipeline_final.fit(X_train_b, y_train)"
   ]
  },
  {
   "cell_type": "code",
   "execution_count": 51,
   "id": "2d36172d",
   "metadata": {},
   "outputs": [
    {
     "data": {
      "text/html": [
       "<div>\n",
       "<style scoped>\n",
       "    .dataframe tbody tr th:only-of-type {\n",
       "        vertical-align: middle;\n",
       "    }\n",
       "\n",
       "    .dataframe tbody tr th {\n",
       "        vertical-align: top;\n",
       "    }\n",
       "\n",
       "    .dataframe thead th {\n",
       "        text-align: right;\n",
       "    }\n",
       "</style>\n",
       "<table border=\"1\" class=\"dataframe\">\n",
       "  <thead>\n",
       "    <tr style=\"text-align: right;\">\n",
       "      <th></th>\n",
       "      <th>Model Name</th>\n",
       "      <th>MAE</th>\n",
       "      <th>MAPE</th>\n",
       "      <th>RMSE</th>\n",
       "    </tr>\n",
       "  </thead>\n",
       "  <tbody>\n",
       "    <tr>\n",
       "      <th>0</th>\n",
       "      <td>XGB</td>\n",
       "      <td>683.06</td>\n",
       "      <td>0.10</td>\n",
       "      <td>995.66</td>\n",
       "    </tr>\n",
       "  </tbody>\n",
       "</table>\n",
       "</div>"
      ],
      "text/plain": [
       "  Model Name    MAE  MAPE   RMSE\n",
       "0        XGB 683.06  0.10 995.66"
      ]
     },
     "execution_count": 51,
     "metadata": {},
     "output_type": "execute_result"
    }
   ],
   "source": [
    "yhat_xgb_tuned = pipeline_final.predict(X_test_b)\n",
    "xgb_result_tuned = ml_errors(\"XGB\", np.expm1(y_test), np.expm1(yhat_xgb_tuned))\n",
    "xgb_result_tuned"
   ]
  },
  {
   "cell_type": "markdown",
   "id": "f9403fbd",
   "metadata": {
    "scrolled": true
   },
   "source": [
    "## Tradução e interpretação do erro"
   ]
  },
  {
   "cell_type": "code",
   "execution_count": 52,
   "id": "722e081c",
   "metadata": {},
   "outputs": [],
   "source": [
    "df2 = X_test[cols_selected_full]"
   ]
  },
  {
   "cell_type": "code",
   "execution_count": 53,
   "id": "6d60d94f",
   "metadata": {
    "scrolled": true
   },
   "outputs": [],
   "source": [
    "# Voltando para a escala original\n",
    "df2 = df2.copy()\n",
    "df2['Sales'] = np.expm1(df2['Sales'])\n",
    "df2['Predictions'] = np.expm1(yhat_xgb_tuned)"
   ]
  },
  {
   "cell_type": "markdown",
   "id": "5ee5710a",
   "metadata": {},
   "source": [
    "## Business performance"
   ]
  },
  {
   "cell_type": "code",
   "execution_count": 54,
   "id": "ec1b8bb7",
   "metadata": {
    "scrolled": true
   },
   "outputs": [],
   "source": [
    "# Somando predições de vendas\n",
    "sum_predictions = df2[['Store', 'Predictions']\n",
    "                      ].groupby('Store').sum().reset_index()"
   ]
  },
  {
   "cell_type": "code",
   "execution_count": 55,
   "id": "0ddcaff2",
   "metadata": {
    "scrolled": true
   },
   "outputs": [],
   "source": [
    "# Computando MAE e MAPE\n",
    "mae = df2[['Store', 'Sales', 'Predictions']].groupby('Store').apply(\n",
    "    lambda x: mean_absolute_error(x['Sales'], x['Predictions'])\n",
    ").reset_index().rename(columns={'Predictions': 'MAE'}).reset_index()\n",
    "\n",
    "mape = df2[['Store', 'Sales', 'Predictions']].groupby('Store').apply(\n",
    "    lambda x: mean_absolute_percentage_error(x['Sales'], x['Predictions'])\n",
    ").reset_index().rename(columns={'Predictions': 'MAPE'})\n",
    "\n",
    "# Merge dataframes\n",
    "df_errors = pd.merge(mae, mape, on='Store')\n",
    "df_errors = df_errors.rename(columns={'0_x':'MAE', '0_y': 'MAPE'})\n",
    "df3 = pd.merge(sum_predictions, df_errors, on='Store')\n",
    "\n",
    "# Computando cenários\n",
    "df3['worst_scenario'] = df3['Predictions'] - df_errors['MAE']\n",
    "df3['best_scenario'] = df3['Predictions'] + df_errors['MAPE']\n",
    "\n",
    "# Reordenando colunas\n",
    "df3 = df3[['Store', 'Predictions', 'worst_scenario', 'best_scenario', 'MAE', 'MAPE']]"
   ]
  },
  {
   "cell_type": "code",
   "execution_count": 99,
   "id": "cb2466db",
   "metadata": {
    "scrolled": true
   },
   "outputs": [
    {
     "data": {
      "text/html": [
       "<div>\n",
       "<style scoped>\n",
       "    .dataframe tbody tr th:only-of-type {\n",
       "        vertical-align: middle;\n",
       "    }\n",
       "\n",
       "    .dataframe tbody tr th {\n",
       "        vertical-align: top;\n",
       "    }\n",
       "\n",
       "    .dataframe thead th {\n",
       "        text-align: right;\n",
       "    }\n",
       "</style>\n",
       "<table border=\"1\" class=\"dataframe\">\n",
       "  <thead>\n",
       "    <tr style=\"text-align: right;\">\n",
       "      <th></th>\n",
       "      <th>Store</th>\n",
       "      <th>Predictions</th>\n",
       "      <th>worst_scenario</th>\n",
       "      <th>best_scenario</th>\n",
       "      <th>MAE</th>\n",
       "      <th>MAPE</th>\n",
       "    </tr>\n",
       "  </thead>\n",
       "  <tbody>\n",
       "    <tr>\n",
       "      <th>291</th>\n",
       "      <td>292</td>\n",
       "      <td>103467.29</td>\n",
       "      <td>100246.70</td>\n",
       "      <td>103467.83</td>\n",
       "      <td>3220.59</td>\n",
       "      <td>0.54</td>\n",
       "    </tr>\n",
       "    <tr>\n",
       "      <th>908</th>\n",
       "      <td>909</td>\n",
       "      <td>234184.31</td>\n",
       "      <td>226384.50</td>\n",
       "      <td>234184.85</td>\n",
       "      <td>7799.81</td>\n",
       "      <td>0.53</td>\n",
       "    </tr>\n",
       "    <tr>\n",
       "      <th>875</th>\n",
       "      <td>876</td>\n",
       "      <td>205320.84</td>\n",
       "      <td>201613.05</td>\n",
       "      <td>205321.12</td>\n",
       "      <td>3707.79</td>\n",
       "      <td>0.27</td>\n",
       "    </tr>\n",
       "    <tr>\n",
       "      <th>721</th>\n",
       "      <td>722</td>\n",
       "      <td>346280.75</td>\n",
       "      <td>344465.36</td>\n",
       "      <td>346280.99</td>\n",
       "      <td>1815.39</td>\n",
       "      <td>0.24</td>\n",
       "    </tr>\n",
       "    <tr>\n",
       "      <th>533</th>\n",
       "      <td>534</td>\n",
       "      <td>279363.50</td>\n",
       "      <td>277932.83</td>\n",
       "      <td>279363.72</td>\n",
       "      <td>1430.67</td>\n",
       "      <td>0.22</td>\n",
       "    </tr>\n",
       "    <tr>\n",
       "      <th>261</th>\n",
       "      <td>262</td>\n",
       "      <td>710518.62</td>\n",
       "      <td>705850.78</td>\n",
       "      <td>710518.84</td>\n",
       "      <td>4667.85</td>\n",
       "      <td>0.21</td>\n",
       "    </tr>\n",
       "    <tr>\n",
       "      <th>838</th>\n",
       "      <td>839</td>\n",
       "      <td>162122.48</td>\n",
       "      <td>161452.75</td>\n",
       "      <td>162122.69</td>\n",
       "      <td>669.74</td>\n",
       "      <td>0.21</td>\n",
       "    </tr>\n",
       "    <tr>\n",
       "      <th>285</th>\n",
       "      <td>286</td>\n",
       "      <td>153176.38</td>\n",
       "      <td>152617.11</td>\n",
       "      <td>153176.58</td>\n",
       "      <td>559.27</td>\n",
       "      <td>0.21</td>\n",
       "    </tr>\n",
       "    <tr>\n",
       "      <th>781</th>\n",
       "      <td>782</td>\n",
       "      <td>213230.22</td>\n",
       "      <td>212517.78</td>\n",
       "      <td>213230.42</td>\n",
       "      <td>712.44</td>\n",
       "      <td>0.20</td>\n",
       "    </tr>\n",
       "    <tr>\n",
       "      <th>273</th>\n",
       "      <td>274</td>\n",
       "      <td>204335.25</td>\n",
       "      <td>203179.68</td>\n",
       "      <td>204335.45</td>\n",
       "      <td>1155.57</td>\n",
       "      <td>0.20</td>\n",
       "    </tr>\n",
       "  </tbody>\n",
       "</table>\n",
       "</div>"
      ],
      "text/plain": [
       "     Store  Predictions  worst_scenario  best_scenario     MAE  MAPE\n",
       "291    292    103467.29       100246.70      103467.83 3220.59  0.54\n",
       "908    909    234184.31       226384.50      234184.85 7799.81  0.53\n",
       "875    876    205320.84       201613.05      205321.12 3707.79  0.27\n",
       "721    722    346280.75       344465.36      346280.99 1815.39  0.24\n",
       "533    534    279363.50       277932.83      279363.72 1430.67  0.22\n",
       "261    262    710518.62       705850.78      710518.84 4667.85  0.21\n",
       "838    839    162122.48       161452.75      162122.69  669.74  0.21\n",
       "285    286    153176.38       152617.11      153176.58  559.27  0.21\n",
       "781    782    213230.22       212517.78      213230.42  712.44  0.20\n",
       "273    274    204335.25       203179.68      204335.45 1155.57  0.20"
      ]
     },
     "execution_count": 99,
     "metadata": {},
     "output_type": "execute_result"
    }
   ],
   "source": [
    "df3.sort_values('MAPE', ascending=False).head(10)"
   ]
  },
  {
   "cell_type": "code",
   "execution_count": 100,
   "id": "f0633801",
   "metadata": {
    "scrolled": true
   },
   "outputs": [
    {
     "data": {
      "text/html": [
       "<div>\n",
       "<style scoped>\n",
       "    .dataframe tbody tr th:only-of-type {\n",
       "        vertical-align: middle;\n",
       "    }\n",
       "\n",
       "    .dataframe tbody tr th {\n",
       "        vertical-align: top;\n",
       "    }\n",
       "\n",
       "    .dataframe thead th {\n",
       "        text-align: right;\n",
       "    }\n",
       "</style>\n",
       "<table border=\"1\" class=\"dataframe\">\n",
       "  <thead>\n",
       "    <tr style=\"text-align: right;\">\n",
       "      <th></th>\n",
       "      <th>Store</th>\n",
       "      <th>Predictions</th>\n",
       "      <th>worst_scenario</th>\n",
       "      <th>best_scenario</th>\n",
       "      <th>MAE</th>\n",
       "      <th>MAPE</th>\n",
       "    </tr>\n",
       "  </thead>\n",
       "  <tbody>\n",
       "    <tr>\n",
       "      <th>732</th>\n",
       "      <td>733</td>\n",
       "      <td>636465.44</td>\n",
       "      <td>635793.50</td>\n",
       "      <td>636465.48</td>\n",
       "      <td>671.94</td>\n",
       "      <td>0.05</td>\n",
       "    </tr>\n",
       "    <tr>\n",
       "      <th>564</th>\n",
       "      <td>565</td>\n",
       "      <td>236881.41</td>\n",
       "      <td>236574.39</td>\n",
       "      <td>236881.45</td>\n",
       "      <td>307.01</td>\n",
       "      <td>0.05</td>\n",
       "    </tr>\n",
       "    <tr>\n",
       "      <th>30</th>\n",
       "      <td>31</td>\n",
       "      <td>211113.44</td>\n",
       "      <td>210815.99</td>\n",
       "      <td>211113.49</td>\n",
       "      <td>297.45</td>\n",
       "      <td>0.05</td>\n",
       "    </tr>\n",
       "    <tr>\n",
       "      <th>989</th>\n",
       "      <td>990</td>\n",
       "      <td>230894.86</td>\n",
       "      <td>230555.32</td>\n",
       "      <td>230894.91</td>\n",
       "      <td>339.54</td>\n",
       "      <td>0.05</td>\n",
       "    </tr>\n",
       "    <tr>\n",
       "      <th>1096</th>\n",
       "      <td>1097</td>\n",
       "      <td>448558.59</td>\n",
       "      <td>447988.28</td>\n",
       "      <td>448558.65</td>\n",
       "      <td>570.31</td>\n",
       "      <td>0.05</td>\n",
       "    </tr>\n",
       "    <tr>\n",
       "      <th>1088</th>\n",
       "      <td>1089</td>\n",
       "      <td>382129.69</td>\n",
       "      <td>381579.93</td>\n",
       "      <td>382129.74</td>\n",
       "      <td>549.76</td>\n",
       "      <td>0.05</td>\n",
       "    </tr>\n",
       "    <tr>\n",
       "      <th>258</th>\n",
       "      <td>259</td>\n",
       "      <td>523515.84</td>\n",
       "      <td>522785.17</td>\n",
       "      <td>523515.90</td>\n",
       "      <td>730.67</td>\n",
       "      <td>0.06</td>\n",
       "    </tr>\n",
       "    <tr>\n",
       "      <th>1052</th>\n",
       "      <td>1053</td>\n",
       "      <td>313485.78</td>\n",
       "      <td>312992.36</td>\n",
       "      <td>313485.84</td>\n",
       "      <td>493.42</td>\n",
       "      <td>0.06</td>\n",
       "    </tr>\n",
       "    <tr>\n",
       "      <th>561</th>\n",
       "      <td>562</td>\n",
       "      <td>715592.31</td>\n",
       "      <td>714583.91</td>\n",
       "      <td>715592.37</td>\n",
       "      <td>1008.41</td>\n",
       "      <td>0.06</td>\n",
       "    </tr>\n",
       "    <tr>\n",
       "      <th>928</th>\n",
       "      <td>929</td>\n",
       "      <td>213221.34</td>\n",
       "      <td>212865.40</td>\n",
       "      <td>213221.40</td>\n",
       "      <td>355.94</td>\n",
       "      <td>0.06</td>\n",
       "    </tr>\n",
       "  </tbody>\n",
       "</table>\n",
       "</div>"
      ],
      "text/plain": [
       "      Store  Predictions  worst_scenario  best_scenario     MAE  MAPE\n",
       "732     733    636465.44       635793.50      636465.48  671.94  0.05\n",
       "564     565    236881.41       236574.39      236881.45  307.01  0.05\n",
       "30       31    211113.44       210815.99      211113.49  297.45  0.05\n",
       "989     990    230894.86       230555.32      230894.91  339.54  0.05\n",
       "1096   1097    448558.59       447988.28      448558.65  570.31  0.05\n",
       "1088   1089    382129.69       381579.93      382129.74  549.76  0.05\n",
       "258     259    523515.84       522785.17      523515.90  730.67  0.06\n",
       "1052   1053    313485.78       312992.36      313485.84  493.42  0.06\n",
       "561     562    715592.31       714583.91      715592.37 1008.41  0.06\n",
       "928     929    213221.34       212865.40      213221.40  355.94  0.06"
      ]
     },
     "execution_count": 100,
     "metadata": {},
     "output_type": "execute_result"
    }
   ],
   "source": [
    "df3.sort_values('MAPE', ascending=True).head(10)"
   ]
  },
  {
   "cell_type": "code",
   "execution_count": 101,
   "id": "c1c22115",
   "metadata": {
    "scrolled": true
   },
   "outputs": [
    {
     "data": {
      "text/html": [
       "<div>\n",
       "<style scoped>\n",
       "    .dataframe tbody tr th:only-of-type {\n",
       "        vertical-align: middle;\n",
       "    }\n",
       "\n",
       "    .dataframe tbody tr th {\n",
       "        vertical-align: top;\n",
       "    }\n",
       "\n",
       "    .dataframe thead th {\n",
       "        text-align: right;\n",
       "    }\n",
       "</style>\n",
       "<table border=\"1\" class=\"dataframe\">\n",
       "  <thead>\n",
       "    <tr style=\"text-align: right;\">\n",
       "      <th></th>\n",
       "      <th>Store</th>\n",
       "      <th>Predictions</th>\n",
       "      <th>worst_scenario</th>\n",
       "      <th>best_scenario</th>\n",
       "      <th>MAE</th>\n",
       "      <th>MAPE</th>\n",
       "    </tr>\n",
       "  </thead>\n",
       "  <tbody>\n",
       "    <tr>\n",
       "      <th>0</th>\n",
       "      <td>1</td>\n",
       "      <td>160996.58</td>\n",
       "      <td>160715.76</td>\n",
       "      <td>160996.64</td>\n",
       "      <td>280.82</td>\n",
       "      <td>0.07</td>\n",
       "    </tr>\n",
       "    <tr>\n",
       "      <th>1</th>\n",
       "      <td>2</td>\n",
       "      <td>179187.36</td>\n",
       "      <td>178789.26</td>\n",
       "      <td>179187.44</td>\n",
       "      <td>398.10</td>\n",
       "      <td>0.08</td>\n",
       "    </tr>\n",
       "    <tr>\n",
       "      <th>2</th>\n",
       "      <td>3</td>\n",
       "      <td>265682.59</td>\n",
       "      <td>265109.44</td>\n",
       "      <td>265682.68</td>\n",
       "      <td>573.16</td>\n",
       "      <td>0.08</td>\n",
       "    </tr>\n",
       "    <tr>\n",
       "      <th>3</th>\n",
       "      <td>4</td>\n",
       "      <td>335850.19</td>\n",
       "      <td>334861.36</td>\n",
       "      <td>335850.28</td>\n",
       "      <td>988.83</td>\n",
       "      <td>0.10</td>\n",
       "    </tr>\n",
       "    <tr>\n",
       "      <th>4</th>\n",
       "      <td>5</td>\n",
       "      <td>178739.42</td>\n",
       "      <td>178265.62</td>\n",
       "      <td>178739.53</td>\n",
       "      <td>473.80</td>\n",
       "      <td>0.11</td>\n",
       "    </tr>\n",
       "  </tbody>\n",
       "</table>\n",
       "</div>"
      ],
      "text/plain": [
       "   Store  Predictions  worst_scenario  best_scenario    MAE  MAPE\n",
       "0      1    160996.58       160715.76      160996.64 280.82  0.07\n",
       "1      2    179187.36       178789.26      179187.44 398.10  0.08\n",
       "2      3    265682.59       265109.44      265682.68 573.16  0.08\n",
       "3      4    335850.19       334861.36      335850.28 988.83  0.10\n",
       "4      5    178739.42       178265.62      178739.53 473.80  0.11"
      ]
     },
     "execution_count": 101,
     "metadata": {},
     "output_type": "execute_result"
    }
   ],
   "source": [
    "df3.head()"
   ]
  },
  {
   "cell_type": "code",
   "execution_count": 102,
   "id": "eb8d4434",
   "metadata": {
    "scrolled": false
   },
   "outputs": [
    {
     "data": {
      "text/html": [
       "<div>\n",
       "<style scoped>\n",
       "    .dataframe tbody tr th:only-of-type {\n",
       "        vertical-align: middle;\n",
       "    }\n",
       "\n",
       "    .dataframe tbody tr th {\n",
       "        vertical-align: top;\n",
       "    }\n",
       "\n",
       "    .dataframe thead th {\n",
       "        text-align: right;\n",
       "    }\n",
       "</style>\n",
       "<table border=\"1\" class=\"dataframe\">\n",
       "  <thead>\n",
       "    <tr style=\"text-align: right;\">\n",
       "      <th></th>\n",
       "      <th>Store</th>\n",
       "      <th>Predictions</th>\n",
       "      <th>worst_scenario</th>\n",
       "      <th>best_scenario</th>\n",
       "      <th>MAE</th>\n",
       "      <th>MAPE</th>\n",
       "    </tr>\n",
       "  </thead>\n",
       "  <tbody>\n",
       "    <tr>\n",
       "      <th>1110</th>\n",
       "      <td>1111</td>\n",
       "      <td>183003.00</td>\n",
       "      <td>182354.01</td>\n",
       "      <td>183003.14</td>\n",
       "      <td>648.99</td>\n",
       "      <td>0.14</td>\n",
       "    </tr>\n",
       "    <tr>\n",
       "      <th>1111</th>\n",
       "      <td>1112</td>\n",
       "      <td>335934.00</td>\n",
       "      <td>334903.86</td>\n",
       "      <td>335934.12</td>\n",
       "      <td>1030.14</td>\n",
       "      <td>0.12</td>\n",
       "    </tr>\n",
       "    <tr>\n",
       "      <th>1112</th>\n",
       "      <td>1113</td>\n",
       "      <td>233186.02</td>\n",
       "      <td>232589.06</td>\n",
       "      <td>233186.10</td>\n",
       "      <td>596.96</td>\n",
       "      <td>0.09</td>\n",
       "    </tr>\n",
       "    <tr>\n",
       "      <th>1113</th>\n",
       "      <td>1114</td>\n",
       "      <td>754839.44</td>\n",
       "      <td>752260.76</td>\n",
       "      <td>754839.55</td>\n",
       "      <td>2578.68</td>\n",
       "      <td>0.11</td>\n",
       "    </tr>\n",
       "    <tr>\n",
       "      <th>1114</th>\n",
       "      <td>1115</td>\n",
       "      <td>256329.08</td>\n",
       "      <td>255643.52</td>\n",
       "      <td>256329.17</td>\n",
       "      <td>685.56</td>\n",
       "      <td>0.10</td>\n",
       "    </tr>\n",
       "  </tbody>\n",
       "</table>\n",
       "</div>"
      ],
      "text/plain": [
       "      Store  Predictions  worst_scenario  best_scenario     MAE  MAPE\n",
       "1110   1111    183003.00       182354.01      183003.14  648.99  0.14\n",
       "1111   1112    335934.00       334903.86      335934.12 1030.14  0.12\n",
       "1112   1113    233186.02       232589.06      233186.10  596.96  0.09\n",
       "1113   1114    754839.44       752260.76      754839.55 2578.68  0.11\n",
       "1114   1115    256329.08       255643.52      256329.17  685.56  0.10"
      ]
     },
     "execution_count": 102,
     "metadata": {},
     "output_type": "execute_result"
    }
   ],
   "source": [
    "df3.tail()"
   ]
  },
  {
   "cell_type": "code",
   "execution_count": 103,
   "id": "d10f0eec",
   "metadata": {
    "scrolled": true
   },
   "outputs": [
    {
     "data": {
      "text/plain": [
       "count   1115.00\n",
       "mean       0.10\n",
       "std        0.03\n",
       "min        0.05\n",
       "25%        0.08\n",
       "50%        0.09\n",
       "75%        0.11\n",
       "max        0.54\n",
       "Name: MAPE, dtype: float64"
      ]
     },
     "execution_count": 103,
     "metadata": {},
     "output_type": "execute_result"
    }
   ],
   "source": [
    "df3['MAPE'].describe()"
   ]
  },
  {
   "cell_type": "code",
   "execution_count": 62,
   "id": "6cbf6bb3",
   "metadata": {
    "scrolled": false
   },
   "outputs": [
    {
     "data": {
      "image/png": "[encoded data removed]",
      "text/plain": [
       "<Figure size 864x360 with 1 Axes>"
      ]
     },
     "metadata": {
      "needs_background": "light"
     },
     "output_type": "display_data"
    }
   ],
   "source": [
    "sns.scatterplot(x='Store', y='MAPE',\n",
    "                color='#7570b3', data=df3)\n",
    "plt.ylabel('MAPE', fontsize=14, color='dimgrey', fontweight='bold')\n",
    "plt.xlabel('STORE', fontsize=14, color='dimgrey', fontweight='bold');"
   ]
  },
  {
   "cell_type": "markdown",
   "id": "9507bfb9",
   "metadata": {},
   "source": [
    "## Performance Total"
   ]
  },
  {
   "cell_type": "code",
   "execution_count": 106,
   "id": "10e1766b",
   "metadata": {
    "scrolled": true
   },
   "outputs": [
    {
     "data": {
      "text/html": [
       "<div>\n",
       "<style scoped>\n",
       "    .dataframe tbody tr th:only-of-type {\n",
       "        vertical-align: middle;\n",
       "    }\n",
       "\n",
       "    .dataframe tbody tr th {\n",
       "        vertical-align: top;\n",
       "    }\n",
       "\n",
       "    .dataframe thead th {\n",
       "        text-align: right;\n",
       "    }\n",
       "</style>\n",
       "<table border=\"1\" class=\"dataframe\">\n",
       "  <thead>\n",
       "    <tr style=\"text-align: right;\">\n",
       "      <th></th>\n",
       "      <th>Scenario</th>\n",
       "      <th>Values</th>\n",
       "    </tr>\n",
       "  </thead>\n",
       "  <tbody>\n",
       "    <tr>\n",
       "      <th>0</th>\n",
       "      <td>Predictions</td>\n",
       "      <td>R$282,733,696.00</td>\n",
       "    </tr>\n",
       "    <tr>\n",
       "      <th>1</th>\n",
       "      <td>worst_scenario</td>\n",
       "      <td>R$281,968,370.75</td>\n",
       "    </tr>\n",
       "    <tr>\n",
       "      <th>2</th>\n",
       "      <td>best_scenario</td>\n",
       "      <td>R$282,733,789.06</td>\n",
       "    </tr>\n",
       "  </tbody>\n",
       "</table>\n",
       "</div>"
      ],
      "text/plain": [
       "         Scenario            Values\n",
       "0     Predictions  R$282,733,696.00\n",
       "1  worst_scenario  R$281,968,370.75\n",
       "2   best_scenario  R$282,733,789.06"
      ]
     },
     "execution_count": 106,
     "metadata": {},
     "output_type": "execute_result"
    }
   ],
   "source": [
    "# Somando predições, melhor cenário e pior cenário\n",
    "performance_total = df3[['Predictions', 'worst_scenario', 'best_scenario']].agg(\n",
    "    ['sum']).T.reset_index()\n",
    "performance_total.columns = ['Scenario', 'Values']\n",
    "performance_total['Values'] = performance_total['Values'].map('R${:,.2f}'.format)\n",
    "performance_total"
   ]
  },
  {
   "cell_type": "markdown",
   "id": "b8df0af3",
   "metadata": {},
   "source": [
    "## Machine Learning Performance"
   ]
  },
  {
   "cell_type": "code",
   "execution_count": 64,
   "id": "75f783a9",
   "metadata": {},
   "outputs": [],
   "source": [
    "df2['Error'] = df2['Sales'] - df2['Predictions']\n",
    "df2['ErrorRate'] = df2['Predictions'] / df2['Sales']"
   ]
  },
  {
   "cell_type": "code",
   "execution_count": 69,
   "id": "312590ad",
   "metadata": {
    "scrolled": true
   },
   "outputs": [
    {
     "data": {
      "image/png": "[encoded data removed]",
      "text/plain": [
       "<Figure size 1440x720 with 4 Axes>"
      ]
     },
     "metadata": {
      "needs_background": "light"
     },
     "output_type": "display_data"
    }
   ],
   "source": [
    "plt.figure(figsize=(20, 10))\n",
    "sns.set_palette('colorblind')\n",
    "\n",
    "plt.subplot(2, 2, 1)\n",
    "sns.lineplot(x='Date', y='Sales', data=df2,\n",
    "             label='REAL SALES', color='#1b9e77')\n",
    "sns.lineplot(x='Date', y='Predictions', data=df2,\n",
    "             label='PREDICTIONS', color='#d95f02')\n",
    "plt.xlabel('Date', fontsize=14, color='dimgrey', fontweight='bold')\n",
    "plt.ylabel('Sales', fontsize=14, color='dimgrey', fontweight='bold')\n",
    "plt.title('REAL SALES VS. PREDICTIONS', pad=10,\n",
    "          fontsize=16, color='dimgrey', fontweight='bold')\n",
    "plt.legend()\n",
    "\n",
    "plt.subplot(2, 2, 2)\n",
    "sns.lineplot(x='Date', y='ErrorRate', data=df2,\n",
    "             color='#a6761d')\n",
    "plt.axhline(1, linestyle='--', color='gray')\n",
    "plt.xlabel('Date', fontsize=14, color='dimgrey', fontweight='bold')\n",
    "plt.ylabel('Error Rate', fontsize=14, color='dimgrey', fontweight='bold')\n",
    "plt.title('ERROR RATE OVER TIME', pad=10,\n",
    "          fontsize=16, color='dimgrey', fontweight='bold')\n",
    "\n",
    "plt.subplot(2, 2, 3)\n",
    "sns.histplot(df2['Error'], kde=True, bins=40, element='step', color='#5D3A9B')\n",
    "plt.axvline(x=df2.Error.mean(), label='MEAN', color='#d95f02', ls='--', lw=2.5)\n",
    "plt.xlabel('RESIDUALS', fontsize=14, color='dimgrey', fontweight='bold')\n",
    "plt.ylabel('Frequency', fontsize=14, color='dimgrey', fontweight='bold')\n",
    "plt.title('DISTRIBUTION OF RESIDUALS', pad=10,\n",
    "          fontsize=16, color='dimgrey', fontweight='bold')\n",
    "\n",
    "plt.subplot(2, 2, 4)\n",
    "sns.scatterplot(x='Predictions', y='Error', data=df2, color='#5D3A9B')\n",
    "plt.axhline(y=0, color='#d95f02', ls='--', lw=2.5)\n",
    "plt.xlabel('Predictions', fontsize=14, color='dimgrey', fontweight='bold')\n",
    "plt.ylabel('RESIDUALS', fontsize=14, color='dimgrey', fontweight='bold')\n",
    "plt.title('RESIDUALS FOR XGBOOST REGRESSOR', pad=10,\n",
    "          fontsize=16, color='dimgrey', fontweight='bold')\n",
    "plt.tight_layout()\n",
    "plt.savefig('model_performance.png')"
   ]
  },
  {
   "cell_type": "code",
   "execution_count": 67,
   "id": "3a229be4",
   "metadata": {},
   "outputs": [],
   "source": [
    "skewness_residuals = skew(df2['Error'])"
   ]
  },
  {
   "cell_type": "code",
   "execution_count": 68,
   "id": "11c9ae27",
   "metadata": {},
   "outputs": [
    {
     "data": {
      "text/plain": [
       "2.6137468962896504"
      ]
     },
     "execution_count": 68,
     "metadata": {},
     "output_type": "execute_result"
    }
   ],
   "source": [
    "skewness_residuals"
   ]
  },
  {
   "cell_type": "code",
   "execution_count": 76,
   "id": "e92bae82",
   "metadata": {},
   "outputs": [],
   "source": [
    "worst_stores = df1.query('Store == 292 or Store == 909 or Store == 876 or Store == 722 or Store == 534')"
   ]
  },
  {
   "cell_type": "code",
   "execution_count": 84,
   "id": "1cdb97fb",
   "metadata": {
    "scrolled": true
   },
   "outputs": [
    {
     "data": {
      "text/html": [
       "<div>\n",
       "<style scoped>\n",
       "    .dataframe tbody tr th:only-of-type {\n",
       "        vertical-align: middle;\n",
       "    }\n",
       "\n",
       "    .dataframe tbody tr th {\n",
       "        vertical-align: top;\n",
       "    }\n",
       "\n",
       "    .dataframe thead th {\n",
       "        text-align: right;\n",
       "    }\n",
       "</style>\n",
       "<table border=\"1\" class=\"dataframe\">\n",
       "  <thead>\n",
       "    <tr style=\"text-align: right;\">\n",
       "      <th></th>\n",
       "      <th>StoreType</th>\n",
       "      <th>Assortment</th>\n",
       "      <th>count</th>\n",
       "      <th>percent</th>\n",
       "      <th>cumulative_count</th>\n",
       "      <th>cumulative_percent</th>\n",
       "    </tr>\n",
       "  </thead>\n",
       "  <tbody>\n",
       "    <tr>\n",
       "      <th>0</th>\n",
       "      <td>a</td>\n",
       "      <td>a</td>\n",
       "      <td>2316</td>\n",
       "      <td>65.31</td>\n",
       "      <td>2316</td>\n",
       "      <td>65.31</td>\n",
       "    </tr>\n",
       "    <tr>\n",
       "      <th>1</th>\n",
       "      <td>d</td>\n",
       "      <td>a</td>\n",
       "      <td>623</td>\n",
       "      <td>17.57</td>\n",
       "      <td>2939</td>\n",
       "      <td>82.88</td>\n",
       "    </tr>\n",
       "    <tr>\n",
       "      <th>2</th>\n",
       "      <td>a</td>\n",
       "      <td>c</td>\n",
       "      <td>607</td>\n",
       "      <td>17.12</td>\n",
       "      <td>3546</td>\n",
       "      <td>100.00</td>\n",
       "    </tr>\n",
       "  </tbody>\n",
       "</table>\n",
       "</div>"
      ],
      "text/plain": [
       "  StoreType Assortment  count  percent  cumulative_count  cumulative_percent\n",
       "0         a          a   2316    65.31              2316               65.31\n",
       "1         d          a    623    17.57              2939               82.88\n",
       "2         a          c    607    17.12              3546              100.00"
      ]
     },
     "execution_count": 84,
     "metadata": {},
     "output_type": "execute_result"
    }
   ],
   "source": [
    "worst_stores.stb.freq(['StoreType', 'Assortment'])"
   ]
  },
  {
   "cell_type": "code",
   "execution_count": 88,
   "id": "3dd417fb",
   "metadata": {},
   "outputs": [],
   "source": [
    "best_stores = df1.query('Store == 733 or Store == 565 or Store == 31 or Store == 990 or Store == 1097')"
   ]
  },
  {
   "cell_type": "code",
   "execution_count": 89,
   "id": "ad218ae8",
   "metadata": {
    "scrolled": true
   },
   "outputs": [
    {
     "data": {
      "text/html": [
       "<div>\n",
       "<style scoped>\n",
       "    .dataframe tbody tr th:only-of-type {\n",
       "        vertical-align: middle;\n",
       "    }\n",
       "\n",
       "    .dataframe tbody tr th {\n",
       "        vertical-align: top;\n",
       "    }\n",
       "\n",
       "    .dataframe thead th {\n",
       "        text-align: right;\n",
       "    }\n",
       "</style>\n",
       "<table border=\"1\" class=\"dataframe\">\n",
       "  <thead>\n",
       "    <tr style=\"text-align: right;\">\n",
       "      <th></th>\n",
       "      <th>StoreType</th>\n",
       "      <th>Assortment</th>\n",
       "      <th>count</th>\n",
       "      <th>percent</th>\n",
       "      <th>cumulative_count</th>\n",
       "      <th>cumulative_percent</th>\n",
       "    </tr>\n",
       "  </thead>\n",
       "  <tbody>\n",
       "    <tr>\n",
       "      <th>0</th>\n",
       "      <td>b</td>\n",
       "      <td>b</td>\n",
       "      <td>1884</td>\n",
       "      <td>44.57</td>\n",
       "      <td>1884</td>\n",
       "      <td>44.57</td>\n",
       "    </tr>\n",
       "    <tr>\n",
       "      <th>1</th>\n",
       "      <td>d</td>\n",
       "      <td>c</td>\n",
       "      <td>784</td>\n",
       "      <td>18.55</td>\n",
       "      <td>2668</td>\n",
       "      <td>63.12</td>\n",
       "    </tr>\n",
       "    <tr>\n",
       "      <th>2</th>\n",
       "      <td>d</td>\n",
       "      <td>a</td>\n",
       "      <td>780</td>\n",
       "      <td>18.45</td>\n",
       "      <td>3448</td>\n",
       "      <td>81.57</td>\n",
       "    </tr>\n",
       "    <tr>\n",
       "      <th>3</th>\n",
       "      <td>a</td>\n",
       "      <td>c</td>\n",
       "      <td>779</td>\n",
       "      <td>18.43</td>\n",
       "      <td>4227</td>\n",
       "      <td>100.00</td>\n",
       "    </tr>\n",
       "  </tbody>\n",
       "</table>\n",
       "</div>"
      ],
      "text/plain": [
       "  StoreType Assortment  count  percent  cumulative_count  cumulative_percent\n",
       "0         b          b   1884    44.57              1884               44.57\n",
       "1         d          c    784    18.55              2668               63.12\n",
       "2         d          a    780    18.45              3448               81.57\n",
       "3         a          c    779    18.43              4227              100.00"
      ]
     },
     "execution_count": 89,
     "metadata": {},
     "output_type": "execute_result"
    }
   ],
   "source": [
    "best_stores.stb.freq(['StoreType', 'Assortment'])"
   ]
  }
 ],
 "metadata": {
  "kernelspec": {
   "display_name": "Python 3 (ipykernel)",
   "language": "python",
   "name": "python3"
  },
  "language_info": {
   "codemirror_mode": {
    "name": "ipython",
    "version": 3
   },
   "file_extension": ".py",
   "mimetype": "text/x-python",
   "name": "python",
   "nbconvert_exporter": "python",
   "pygments_lexer": "ipython3",
   "version": "3.9.13"
  },
  "toc": {
   "base_numbering": 1,
   "nav_menu": {},
   "number_sections": true,
   "sideBar": true,
   "skip_h1_title": false,
   "title_cell": "Table of Contents",
   "title_sidebar": "Contents",
   "toc_cell": false,
   "toc_position": {
    "height": "640.713px",
    "left": "45px",
    "top": "66.872px",
    "width": "164.998px"
   },
   "toc_section_display": true,
   "toc_window_display": false
  }
 },
 "nbformat": 4,
 "nbformat_minor": 5
}
